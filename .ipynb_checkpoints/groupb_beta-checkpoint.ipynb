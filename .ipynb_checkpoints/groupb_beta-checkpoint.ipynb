{
 "cells": [
  {
   "cell_type": "code",
   "execution_count": 11,
   "metadata": {},
   "outputs": [],
   "source": [
    "#import dependencies \n",
    "import requests\n",
    "import json\n",
    "import matplotlib as plt\n",
    "from pprint import pprint\n",
    "import pandas as pd\n",
    "from datetime import datetime\n",
    "from dateutil.parser import parse"
   ]
  },
  {
   "cell_type": "code",
   "execution_count": 29,
   "metadata": {},
   "outputs": [
    {
     "data": {
      "text/plain": [
       "Incident Number w/year     133949\n",
       "Year of Incident           133949\n",
       "Watch                      133949\n",
       "Call (911) Problem         132683\n",
       "Type of Incident           133949\n",
       "Date1 of Occurrence        133949\n",
       "Month1 of Occurence        133949\n",
       "Day1 of the Week           133949\n",
       "Time1 of Occurrence        133949\n",
       "Call Dispatch Date Time    132673\n",
       "X Coordinate                98503\n",
       "Y Cordinate                 98503\n",
       "Zip Code                   133669\n",
       "City                       132123\n",
       "State                      132974\n",
       "dtype: int64"
      ]
     },
     "execution_count": 29,
     "metadata": {},
     "output_type": "execute_result"
    }
   ],
   "source": [
    "# pulling Csv file\n",
    "police = \"Resources/police_data.csv\"\n",
    "police_df = pd.read_csv(police, encoding=\"ISO-8859-1\")\n",
    "\n",
    "police_df.head()\n",
    "police_df.count()"
   ]
  },
  {
   "cell_type": "code",
   "execution_count": 13,
   "metadata": {},
   "outputs": [
    {
     "data": {
      "text/plain": [
       "Incident Number w/year     95440\n",
       "Year of Incident           95440\n",
       "Watch                      95440\n",
       "Call (911) Problem         95440\n",
       "Type of Incident           95440\n",
       "Date1 of Occurrence        95440\n",
       "Month1 of Occurence        95440\n",
       "Day1 of the Week           95440\n",
       "Time1 of Occurrence        95440\n",
       "Call Dispatch Date Time    95440\n",
       "X Coordinate               95440\n",
       "Y Cordinate                95440\n",
       "Zip Code                   95440\n",
       "City                       95440\n",
       "State                      95440\n",
       "dtype: int64"
      ]
     },
     "execution_count": 13,
     "metadata": {},
     "output_type": "execute_result"
    }
   ],
   "source": [
    "#Cleaning Data  \n",
    "police_df = police_df.dropna(how='any')\n",
    "\n",
    "police_df.count()"
   ]
  },
  {
   "cell_type": "markdown",
   "metadata": {},
   "source": [
    "#we went with the complete data set in order to consitent an clean infromation accross the board "
   ]
  },
  {
   "cell_type": "code",
   "execution_count": 14,
   "metadata": {},
   "outputs": [],
   "source": [
    "#police_df.head()"
   ]
  },
  {
   "cell_type": "code",
   "execution_count": 15,
   "metadata": {},
   "outputs": [],
   "source": [
    "#pulling the time of distpatch \n",
    "dispatch_time_split = police_df['Call Dispatch Date Time'].str.split(expand=True)\n",
    "dispatch_time = dispatch_time_split[1]\n",
    "#dispatch_time\n",
    "\n",
    "#pullign the tiem that the incident occured (to compare the difference)\n",
    "incident_time = police_df['Time1 of Occurrence']\n",
    "# average_dispatch_time= dispatch_time - incident_time\n",
    "#dispatch_time"
   ]
  },
  {
   "cell_type": "code",
   "execution_count": 16,
   "metadata": {},
   "outputs": [],
   "source": [
    "#convert time into leteral quantitative time \n",
    "dispatch_time_conversion = [datetime.strptime(x, '%H:%M') for x in dispatch_time]\n",
    "incident_time_conversion = [datetime.strptime(x, '%H:%M') for x in incident_time]"
   ]
  },
  {
   "cell_type": "code",
   "execution_count": 17,
   "metadata": {},
   "outputs": [
    {
     "data": {
      "text/plain": [
       "Watch\n",
       "1    32613\n",
       "2    28896\n",
       "3    33931\n",
       "Name: Incident Number w/year, dtype: int64"
      ]
     },
     "execution_count": 17,
     "metadata": {},
     "output_type": "execute_result"
    }
   ],
   "source": [
    "#find out how many incidents occured within which watch (split between times of the day)\n",
    "watch_count = police_df.groupby('Watch')['Incident Number w/year'].count()\n",
    "watch_count"
   ]
  },
  {
   "cell_type": "code",
   "execution_count": 33,
   "metadata": {},
   "outputs": [
    {
     "data": {
      "text/plain": [
       "0"
      ]
     },
     "execution_count": 33,
     "metadata": {},
     "output_type": "execute_result"
    }
   ],
   "source": [
    "# Obtain the x and y coordinates for each of the three watch types\n",
    "\n",
    "watch1_df = police_df.loc[police_df['Watch'] == \"1\"]\n",
    "watch_count = watch1_df['Incident Number w/year'].count()\n",
    "watch1_count\n",
    "\n",
    "#then for each one you want to group by the city, then do the math (mean, sum, etc) \n",
    "#watch one incedidents per year count \n",
    "#urb_fa = urban_cities[\"fare\"].mean() \n",
    "#R.R.\n",
    "\n",
    "#plt.scatter(x=w_1, y=w1_yr, facecolor=\"yellow\", edgecolor=\"black\",alpha=.8, label=\"Watch One\")\n",
    "#plt.scatter(x=w_2, y=w2_yr, facecolor=\"green\", edgecolor=\"black\",alpha=.8, label=\"Watch Two\")\n",
    "#plt.scatter(x=w_3, y=w3_yr, facecolor=\"blue\", edgecolor=\"black\",alpha=.8, label=\"Watch Three\")\n",
    "\n",
    "\n",
    "#plt.grid()\n",
    "\n",
    "\n",
    "# Create a legend\n",
    "# Incorporate a text label regarding circle size\n",
    "#plt.title(\"Pyber Ride Sharing Data (2106)\")\n",
    "#plt.xlabel(\"Total Number of Rides (Per City)\")\n",
    "#plt.ylabel(\"Average Fare ($)\")\n",
    "#plt.legend(loc=\"best\")\n",
    "\n",
    "#txt: Note:"
   ]
  },
  {
   "cell_type": "code",
   "execution_count": 20,
   "metadata": {},
   "outputs": [
    {
     "data": {
      "text/plain": [
       "58 - ROUTINE INVESTIGATION        15549\n",
       "6X - MAJOR DIST (VIOLENCE)         7617\n",
       "11V - BURG MOTOR VEH               7494\n",
       "09V - UUMV                         4441\n",
       "55 - TRAFFIC STOP                  4426\n",
       "40/01 - OTHER                      4424\n",
       "40 - OTHER                         3763\n",
       "09 - THEFT                         3671\n",
       "31 - CRIMINAL MISCHIEF             3253\n",
       "11R - BURG OF RES                  3183\n",
       "20 - ROBBERY                       2976\n",
       "12B - BUSINESS ALARM               2750\n",
       "07 - MINOR ACCIDENT                2273\n",
       "7X - MAJOR ACCIDENT                1942\n",
       "24 - ABANDONED PROPERTY            1907\n",
       "11B - BURG OF BUS                  1846\n",
       "PSE/09 - THEFT                     1657\n",
       "ODJ - OFF DUTY JOB                 1155\n",
       "15 - ASSIST OFFICER                1121\n",
       "09/01 - THEFT                      1048\n",
       "12R - RESIDENTIAL ALARM             906\n",
       "32 - SUSPICIOUS PERSON              888\n",
       "6XA - MAJOR DIST  AMBULANCE         861\n",
       "6XE - DISTURBANCE EMERGENCY         742\n",
       "19 - SHOOTING                       675\n",
       "09V-01 UUMV JUST OCRD               655\n",
       "11V/01 - BURG MOTOR VEH             614\n",
       "41/20 - ROBBERY - IN PROGRESS       613\n",
       "16 - INJURED PERSON                 610\n",
       "**PD REQUESTED BY FIRE              593\n",
       "                                  ...  \n",
       "DH - DRUG HOUSE                      32\n",
       "41/31 - CRIM MIS/PROGRESS/FELO       28\n",
       "PSE/24 - LOST PROPERTY               25\n",
       "11C - BURG COIN OPER                 24\n",
       "39 - SPEEDING/RACING                 22\n",
       "AC - ANIMAL CRUELTY                  22\n",
       "33 - PROSTITUTION                    18\n",
       "18 - STRUCTURE FIRE                  18\n",
       "7XCE - MAJOR ACC CITY EQUIP          17\n",
       "41/25 - CRIMINAL ASLT -IN PROG       17\n",
       "6M - LOUD MUSIC DISTURBANCE          14\n",
       "44 - PERSON IN DANGER HIGH WTR       11\n",
       "6S - SCHOOL DIST (VIOLENCE)           9\n",
       "18A - VEHICLE FIRE                    9\n",
       "SIP - SLEEPING IN PUBLIC              9\n",
       "26 - MISSING PERSON                   8\n",
       "7XFCE - MAJOR ACC FWY CITY EQ         6\n",
       "11C/01 - BURG COIN OPER               6\n",
       "17C - CHILD ABDUCTION                 6\n",
       "28 - OPEN CARRY                       6\n",
       "26/01- MISSING PERSON-CRITICAL        6\n",
       "PSE/11C -  BURG COIN OP               6\n",
       "36/01 - ABAND CHILD CRITICAL          5\n",
       "42 - CHASE                            4\n",
       "AC/01 - ANIMAL CRUELTY IN PROG        3\n",
       "PSE/11R - BURG OF RES                 3\n",
       "6X/01 WOMEN'S SHELTER DIST            2\n",
       "PSE/11B - BURG OF BUS                 1\n",
       "PSE/26 - MISSING PERSON               1\n",
       "PSE/09V - UUMV                        1\n",
       "Name: Call (911) Problem, Length: 116, dtype: int64"
      ]
     },
     "execution_count": 20,
     "metadata": {},
     "output_type": "execute_result"
    }
   ],
   "source": [
    "#pulling the type of \"crime\" that is being called in and the count to the type of crime \n",
    "police_df['Call (911) Problem'].value_counts()"
   ]
  },
  {
   "cell_type": "code",
   "execution_count": 9,
   "metadata": {},
   "outputs": [
    {
     "ename": "SyntaxError",
     "evalue": "invalid syntax (<ipython-input-9-95de04380917>, line 40)",
     "output_type": "error",
     "traceback": [
      "\u001b[0;36m  File \u001b[0;32m\"<ipython-input-9-95de04380917>\"\u001b[0;36m, line \u001b[0;32m40\u001b[0m\n\u001b[0;31m    18 - STRUCTURE FIRE\u001b[0m\n\u001b[0m                      ^\u001b[0m\n\u001b[0;31mSyntaxError\u001b[0m\u001b[0;31m:\u001b[0m invalid syntax\n"
     ]
    }
   ],
   "source": [
    "#renaming crime type to genralize and compare what typically re-occurs at what time of day \n",
    "police_df['Type of Incident'] = police_df['Call (911) Problem'].replace(\n",
    "    {'09 - THEFT': 'THEFT',\n",
    "    '09/01 - THEFT' : 'THEFT',\n",
    "    'PSE/09 - THEFT': 'THEFT', \n",
    "    '20 - ROBBERY' : 'ROBBERY', \n",
    "    '20R - ROBBERY (REPORT)+1HR': 'ROBBERY',\n",
    "    '12B - BUSINESS ALARM' : 'ALARMS_DISTURBANCE',\n",
    "    '12N - BURGLAR ALARM NONDISP': 'ALARMS_DISTURBANCE', \n",
    "    '12R - RESIDENTIAL ALARM': 'ALARMS_DISTURBANCE',\n",
    "    '21R - RES PANIC  ALARM': 'ALARMS_DISTURBANCE', \n",
    "    '6XE - DISTURBANCE EMERGENCY': 'ALARMS_DISTURBANCE',\n",
    "    'ARSON -ALL OTHERS': 'ALARMS_DISTURBANCE', \n",
    "    '6XA - MAJOR DIST  AMBULANCE': 'ALARMS_DISTURBANCE',\n",
    "    '6XEA - DISTURBANCE EMERG AMB': 'ALARMS_DISTURBANCE', \n",
    "    '6M - LOUD MUSIC DISTURBANCE': 'ALARMS_DISTURBANCE',\n",
    "    \"6X/01 WOMEN'S SHELTER DIST\": 'ALARMS_DISTURBANCE',\n",
    "    '15 - ASSIST OFFICER': 'ASSISTING_OFFICER', \n",
    "    '15A - ASSIST OFFICER W/AMB': 'ASSISTING_OFFICER',\n",
    "    '14 - STABBING, CUTTING': 'INJURY', \n",
    "    '16 - INJURED PERSON': 'INJURY',\n",
    "    '16A - INJURED PERSON W/AMB': 'INJURY', \n",
    "    '11B - BURG OF BUS' : 'BURGLARY',\n",
    "    '11B/01 - BURG OF BUS': 'BURGLARY',\n",
    "    '11C - BURG COIN OPER' : 'BURGLARY',\n",
    "    '11C/01 - BURG COIN OPER' : 'BURGLARY',\n",
    "    '11R - BURG OF RES' : 'BURGLARY',\n",
    "    '11R/01 - BURG OF RES' : 'BURGLARY',\n",
    "    '11V - BURG MOTOR VEH' : 'BURGLARY',\n",
    "    '11V/01 - BURG MOTOR VEH' : 'BURGLARY',\n",
    "    'PSE/11B - BURG OF BUS' : 'BURGLARY',\n",
    "    'PSE/11C -  BURG COIN OP' : 'BURGLARY',\n",
    "    'PSE/11R - BURG OF RES' : 'BURGLARY',\n",
    "    'PSE/11V - BURG MOTOR VEH' : 'BURGLARY',\n",
    "     \n",
    "\n",
    "\n",
    "\n",
    "     \n",
    "#arson\n",
    "18 - STRUCTURE FIRE\n",
    "18A - VEHICLE FIRE\n",
    "     \n",
    "     \n",
    "#minor offenses\n",
    "SIP - SLEEPING IN PUBLIC\n",
    "06 - MINOR DISTURBANCE\n",
    "PH - PANHANDLER\n",
    "     \n",
    "     \n",
    "#vehicle violations\n",
    "TOW - TOWREPO\n",
    "23 - PARKING VIOLATION\n",
    "PK - PARK CHECK\n",
    "55 - TRAFFIC STOP \n",
    "BCA - BAIT CAR ACTIVATION\n",
    "09V - UUMV\n",
    "09V-01 UUMV JUST OCRD\n",
    "43 - ROAD RAGE\n",
    "37 - STREET BLOCKAGE\n",
    "37F - FREEWAY BLOCKAGE\n",
    "39 - SPEEDING/RACING\n",
    "PSE/09V - UUMV\n",
    "     \n",
    "#drug related\n",
    "DH - DRUG HOUSE\n",
    "OADS - OPEN AIR DRUG SALES\n",
    "     \n",
    "     \n",
    "#armed offense/gun involvement \n",
    "DAEF-DIST ARMED ENCOUNTER FOOT\n",
    "DAEV-DIST ARMED ENCOUNTER VEH\n",
    "DASF-DIST ACTIVE SHOOTER FOOT\n",
    "DASV-DIST ACTIVE SHOOTER VEH\n",
    "6G - RANDOM GUN FIRE\n",
    "19 - SHOOTING\n",
    "21B - BUSINESS HOLD UP\n",
    "28 - OPEN CARRY\n",
    "     \n",
    "     \n",
    "     \n",
    "#animal cruelty/ animal attacks\n",
    "AC - ANIMAL CRUELTY\n",
    "AC/01 - ANIMAL CRUELTY IN PROG\n",
    "22 - ANIMAL DISTURBANCE\n",
    "22A - ANIMAL ATTACK\n",
    "     \n",
    "     \n",
    "#accident\n",
    "7CE - CITY EQUIPMENT ACCIDENT\n",
    "7X - MAJOR ACCIDENT\n",
    "7XCE - MAJOR ACC CITY EQUIP\n",
    "7XF - MAJOR ACCIDENT FREEWAY\n",
    "7XFCE - MAJOR ACC FWY CITY EQ\n",
    "07 - MINOR ACCIDENT\n",
    "\n",
    "     \n",
    "#violence\n",
    "6S - SCHOOL DIST (VIOLENCE)\n",
    "6X - MAJOR DIST (VIOLENCE)\n",
    "25 - CRIMINAL ASSAULT     \n",
    "     \n",
    "     \n",
    "     \n",
    "#kidnapping/ missing persons\n",
    "17 - KIDNAPPING IN PROGRESS\n",
    "17C - CHILD ABDUCTION\n",
    "26 - MISSING PERSON\n",
    "PSE/26 - MISSING PERSON\n",
    "26/01- MISSING PERSON-CRITICAL\n",
    "\n",
    "\n",
    "     \n",
    "     \n",
    "#investigation/ suspicious person\n",
    "58 - ROUTINE INVESTIGATION\n",
    "PSE/31- CRIMINAL MISCHIEF\n",
    "31 - CRIMINAL MISCHIEF\n",
    "13 - PROWLER\n",
    "32 - SUSPICIOUS PERSON\n",
    "     \n",
    "#death/suicide\n",
    "34 - SUICIDE\n",
    "27 - DEAD PERSON\n",
    "     \n",
    "     \n",
    "#crisis intervention\n",
    "46 - CIT\n",
    "46A - CIT W/AMBULANCE\n",
    "44 - PERSON IN DANGER HIGH WTR\n",
    "\n",
    "     \n",
    "     \n",
    "\n",
    "     \n",
    "     \n",
    "     \n",
    "     \n",
    "\n",
    "\n",
    "\n",
    "\n",
    "\n",
    "\n",
    "\n"
   ]
  },
  {
   "cell_type": "code",
   "execution_count": null,
   "metadata": {},
   "outputs": [],
   "source": []
  }
 ],
 "metadata": {
  "kernelspec": {
   "display_name": "Python 3",
   "language": "python",
   "name": "python3"
  },
  "language_info": {
   "codemirror_mode": {
    "name": "ipython",
    "version": 3
   },
   "file_extension": ".py",
   "mimetype": "text/x-python",
   "name": "python",
   "nbconvert_exporter": "python",
   "pygments_lexer": "ipython3",
   "version": "3.7.3"
  }
 },
 "nbformat": 4,
 "nbformat_minor": 2
}
