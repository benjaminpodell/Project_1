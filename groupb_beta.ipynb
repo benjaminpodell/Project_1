{
 "cells": [
  {
   "cell_type": "code",
   "execution_count": 1,
   "metadata": {},
   "outputs": [],
   "source": [
    "#import dependencies \n",
    "import requests\n",
    "import json\n",
    "import numpy as np\n",
    "import matplotlib.pyplot as plt\n",
    "from pprint import pprint\n",
    "import pandas as pd\n",
    "from datetime import datetime\n",
    "from dateutil.parser import parse"
   ]
  },
  {
   "cell_type": "code",
   "execution_count": 2,
   "metadata": {},
   "outputs": [
    {
     "data": {
      "text/plain": [
       "Incident Number w/year     133949\n",
       "Year of Incident           133949\n",
       "Watch                      133949\n",
       "Call (911) Problem         132683\n",
       "Type of Incident           133949\n",
       "Date1 of Occurrence        133949\n",
       "Month1 of Occurence        133949\n",
       "Day1 of the Week           133949\n",
       "Time1 of Occurrence        133949\n",
       "Call Dispatch Date Time    132673\n",
       "X Coordinate                98503\n",
       "Y Cordinate                 98503\n",
       "Zip Code                   133669\n",
       "City                       132123\n",
       "State                      132974\n",
       "dtype: int64"
      ]
     },
     "execution_count": 2,
     "metadata": {},
     "output_type": "execute_result"
    }
   ],
   "source": [
    "# pulling Csv file\n",
    "police = \"Resources/police_data.csv\"\n",
    "police_df = pd.read_csv(police, encoding=\"ISO-8859-1\")\n",
    "\n",
    "police_df.head()\n",
    "police_df.count()"
   ]
  },
  {
   "cell_type": "code",
   "execution_count": 3,
   "metadata": {},
   "outputs": [
    {
     "data": {
      "text/plain": [
       "Incident Number w/year     95440\n",
       "Year of Incident           95440\n",
       "Watch                      95440\n",
       "Call (911) Problem         95440\n",
       "Type of Incident           95440\n",
       "Date1 of Occurrence        95440\n",
       "Month1 of Occurence        95440\n",
       "Day1 of the Week           95440\n",
       "Time1 of Occurrence        95440\n",
       "Call Dispatch Date Time    95440\n",
       "X Coordinate               95440\n",
       "Y Cordinate                95440\n",
       "Zip Code                   95440\n",
       "City                       95440\n",
       "State                      95440\n",
       "dtype: int64"
      ]
     },
     "execution_count": 3,
     "metadata": {},
     "output_type": "execute_result"
    }
   ],
   "source": [
    "#Cleaning Data  \n",
    "police_df = police_df.dropna(how='any')\n",
    "\n",
    "police_df.count()"
   ]
  },
  {
   "cell_type": "markdown",
   "metadata": {},
   "source": [
    "#we went with the complete data set in order to consitent an clean infromation accross the board "
   ]
  },
  {
   "cell_type": "code",
   "execution_count": 4,
   "metadata": {},
   "outputs": [],
   "source": [
    "#police_df.head()"
   ]
  },
  {
   "cell_type": "code",
   "execution_count": 5,
   "metadata": {},
   "outputs": [],
   "source": [
    "#pulling the time of distpatch \n",
    "dispatch_time_split = police_df['Call Dispatch Date Time'].str.split(expand=True)\n",
    "dispatch_time = dispatch_time_split[1]\n",
    "#dispatch_time\n",
    "\n",
    "#pullign the tiem that the incident occured (to compare the difference)\n",
    "incident_time = police_df['Time1 of Occurrence']\n",
    "# average_dispatch_time= dispatch_time - incident_time\n",
    "#dispatch_time"
   ]
  },
  {
   "cell_type": "code",
   "execution_count": 6,
   "metadata": {},
   "outputs": [],
   "source": [
    "#convert time into leteral quantitative time \n",
    "dispatch_time_conversion = [datetime.strptime(x, '%H:%M') for x in dispatch_time]\n",
    "incident_time_conversion = [datetime.strptime(x, '%H:%M') for x in incident_time]"
   ]
  },
  {
   "cell_type": "code",
   "execution_count": 7,
   "metadata": {},
   "outputs": [
    {
     "data": {
      "text/plain": [
       "Watch\n",
       "1    32613\n",
       "2    28896\n",
       "3    33931\n",
       "Name: Incident Number w/year, dtype: int64"
      ]
     },
     "execution_count": 7,
     "metadata": {},
     "output_type": "execute_result"
    }
   ],
   "source": [
    "#find out how many incidents occured within which watch (split between times of the day)\n",
    "watch_count = police_df.groupby('Watch')['Incident Number w/year'].count()\n",
    "watch_count"
   ]
  },
  {
   "cell_type": "code",
   "execution_count": 8,
   "metadata": {},
   "outputs": [
    {
     "name": "stderr",
     "output_type": "stream",
     "text": [
      "C:\\Users\\tinad\\Anaconda3\\lib\\site-packages\\pandas\\core\\ops.py:1649: FutureWarning: elementwise comparison failed; returning scalar instead, but in the future will perform elementwise comparison\n",
      "  result = method(y)\n"
     ]
    },
    {
     "data": {
      "text/plain": [
       "0"
      ]
     },
     "execution_count": 8,
     "metadata": {},
     "output_type": "execute_result"
    }
   ],
   "source": [
    "# Obtain the x and y coordinates for each of the three watch types\n",
    "\n",
    "watch1_df = police_df.loc[police_df['Watch'] == \"1\"]\n",
    "watch1_count = watch1_df['Incident Number w/year'].count()\n",
    "watch1_count\n",
    "\n",
    "#then for each one you want to group by the city, then do the math (mean, sum, etc) \n",
    "#watch one incedidents per year count \n",
    "#urb_fa = urban_cities[\"fare\"].mean() \n",
    "#R.R.\n",
    "\n",
    "# plt.scatter(x=w_1, y=w1_yr, facecolor=\"yellow\", edgecolor=\"black\",alpha=.8, label=\"Watch One\")\n",
    "# plt.scatter(x=w_2, y=w2_yr, facecolor=\"green\", edgecolor=\"black\",alpha=.8, label=\"Watch Two\")\n",
    "# plt.scatter(x=w_3, y=w3_yr, facecolor=\"blue\", edgecolor=\"black\",alpha=.8, label=\"Watch Three\")\n",
    "\n",
    "\n",
    "# plt.grid()\n",
    "\n",
    "\n",
    "# #Create a legend\n",
    "# #Incorporate a text label regarding circle size\n",
    "# plt.title(\"Incidents Per Watch over Year\")\n",
    "# plt.xlabel(\"Different Watches\")\n",
    "# plt.ylabel(\"Number of Incidents\")\n",
    "# plt.legend(loc=\"best\")\n",
    "\n",
    "\n",
    "\n",
    "####Do we want to incoporporate the \"type\" of incidetn as \"s\" value or maintain the two, because then a bar chart makes most sense for the particular up above data "
   ]
  },
  {
   "cell_type": "code",
   "execution_count": null,
   "metadata": {},
   "outputs": [],
   "source": [
    "#pulling the type of \"crime\" that is being called in and the count to the type of crime \n",
    "#police_df['Call (911) Problem'].value_counts()"
   ]
  },
  {
   "cell_type": "code",
   "execution_count": null,
   "metadata": {},
   "outputs": [
    {
     "data": {
      "text/plain": [
       "INVESTIGATION/SUSPICIOUS_PERSON    20350\n",
       "BURGLARY                           14110\n",
       "OTHER                              11133\n",
       "VEHICLE_VIOLATIONS                 10530\n",
       "VIOLENCE                            7626\n",
       "THEFT                               6376\n",
       "ALARMS_DISTURBANCE                  5937\n",
       "ACCIDENT                            4619\n",
       "ROBBERY                             3222\n",
       "ARMED_OFFENSE/GUN_INVOLVEMENT       2570\n",
       "THEFT_OR_ASSAULT_IN_PROGRESS        2060\n",
       "ABANDONMENT                         1979\n",
       "ASSISTING_OFFICER                   1165\n",
       "INJURY                              1082\n",
       "CRISIS_INTERVENTION                  908\n",
       "FIRE                                 620\n",
       "DRUG_RELATED                         326\n",
       "CRIMINAL_MISCONDUCT                  299\n",
       "MINOR_OFFENSES                       186\n",
       "ANIMAL_CRUELTY/ATTACK                151\n",
       "POLICE_CHASE                          75\n",
       "KIDNAPPING/MISSING_PERSONS            62\n",
       "SUICIDE/DEAD_PERSONS                  36\n",
       "PROSTITUTION                          18\n",
       "Name: Call (911) Problem, dtype: int64"
      ]
     },
     "execution_count": 10,
     "metadata": {},
     "output_type": "execute_result"
    }
   ],
   "source": [
    "police_df['Call (911) Problem'] = police_df['Call (911) Problem'].replace(\n",
    "    {'09 - THEFT': 'THEFT',\n",
    "    '09/01 - THEFT' : 'THEFT',\n",
    "    'PSE/09 - THEFT': 'THEFT', \n",
    "    '20 - ROBBERY' : 'ROBBERY', \n",
    "    '20R - ROBBERY (REPORT)+1HR': 'ROBBERY',\n",
    "    '12B - BUSINESS ALARM' : 'ALARMS_DISTURBANCE',\n",
    "    '12N - BURGLAR ALARM NONDISP': 'ALARMS_DISTURBANCE', \n",
    "    '12R - RESIDENTIAL ALARM': 'ALARMS_DISTURBANCE',\n",
    "    '21R - RES PANIC  ALARM': 'ALARMS_DISTURBANCE', \n",
    "    '6XE - DISTURBANCE EMERGENCY': 'ALARMS_DISTURBANCE',\n",
    "    'ARSON -ALL OTHERS': 'ALARMS_DISTURBANCE', \n",
    "    '6XA - MAJOR DIST  AMBULANCE': 'ALARMS_DISTURBANCE',\n",
    "    '6XEA - DISTURBANCE EMERG AMB': 'ALARMS_DISTURBANCE', \n",
    "    '6M - LOUD MUSIC DISTURBANCE': 'ALARMS_DISTURBANCE',\n",
    "    \"6X/01 WOMEN'S SHELTER DIST\": 'ALARMS_DISTURBANCE',\n",
    "    '22 - ANIMAL DISTURBANCE' : 'ALARMS_DISTURBANCE',\n",
    "    '12 - BURGLAR ALARM UNKNOWN' : 'ALARMS_DISTURBANCE',\n",
    "    '15 - ASSIST OFFICER': 'ASSISTING_OFFICER', \n",
    "    '15A - ASSIST OFFICER W/AMB': 'ASSISTING_OFFICER',\n",
    "    '14 - STABBING, CUTTING': 'INJURY', \n",
    "    '16 - INJURED PERSON': 'INJURY',\n",
    "    '16A - INJURED PERSON W/AMB': 'INJURY', \n",
    "    '11B - BURG OF BUS' : 'BURGLARY',\n",
    "    '11B/01 - BURG OF BUS': 'BURGLARY',\n",
    "    '11C - BURG COIN OPER' : 'BURGLARY',\n",
    "    '11C/01 - BURG COIN OPER' : 'BURGLARY',\n",
    "    '11R - BURG OF RES' : 'BURGLARY',\n",
    "    '11R/01 - BURG OF RES' : 'BURGLARY',\n",
    "    '11V - BURG MOTOR VEH' : 'BURGLARY',\n",
    "    '11V/01 - BURG MOTOR VEH' : 'BURGLARY',\n",
    "    'PSE/11B - BURG OF BUS' : 'BURGLARY',\n",
    "    'PSE/11C -  BURG COIN OP' : 'BURGLARY',\n",
    "    'PSE/11R - BURG OF RES' : 'BURGLARY',\n",
    "    'PSE/11V - BURG MOTOR VEH' : 'BURGLARY',\n",
    "    '18 - STRUCTURE FIRE' : 'FIRE',\n",
    "    '18A - VEHICLE FIRE' : 'FIRE',\n",
    "    '**PD REQUESTED BY FIRE' : 'FIRE',\n",
    "    'SIP - SLEEPING IN PUBLIC' : 'MINOR_OFFENSES',\n",
    "    '06 - MINOR DISTURBANCE' : 'MINOR_OFFENSES',\n",
    "    'PH - PANHANDLER' : 'MINOR_OFFENSES',\n",
    "    'PSE/11R - BURG OF RES' : 'BURGLARY',\n",
    "    'PSE/11V - BURG MOTOR VEH' : 'BURGLARY',\n",
    "    'TOW - TOWREPO' : 'VEHICLE_VIOLATIONS',\n",
    "    '23 - PARKING VIOLATION' : 'VEHICLE_VIOLATIONS',\n",
    "    'PK - PARK CHECK' : 'VEHICLE_VIOLATIONS',\n",
    "    '55 - TRAFFIC STOP' : 'VEHICLE_VIOLATIONS',\n",
    "    'BCA - BAIT CAR ACTIVATION' : 'VEHICLE_VIOLATIONS',\n",
    "    '09V - UUMV' : 'VEHICLE_VIOLATIONS',\n",
    "    '09V-01 UUMV JUST OCRD' : 'VEHICLE_VIOLATIONS',\n",
    "    '43 - ROAD RAGE' : 'VEHICLE_VIOLATIONS',\n",
    "    '37 - STREET BLOCKAGE' : 'VEHICLE_VIOLATIONS',\n",
    "    '37F - FREEWAY BLOCKAGE' : 'VEHICLE_VIOLATIONS',\n",
    "    '39 - SPEEDING/RACING' : 'VEHICLE_VIOLATIONS',\n",
    "    'PSE/09V - UUMV' : 'VEHICLE_VIOLATIONS',\n",
    "    'DH - DRUG HOUSE' : 'DRUG_RELATED',\n",
    "    'OADS - OPEN AIR DRUG SALES' : 'DRUG_RELATED',\n",
    "    'DAEF-DIST ARMED ENCOUNTER FOOT' : 'ARMED_OFFENSE/GUN_INVOLVEMENT',\n",
    "    'DAEV-DIST ARMED ENCOUNTER VEH' : 'ARMED_OFFENSE/GUN_INVOLVEMENT',\n",
    "    'DASF-DIST ACTIVE SHOOTER FOOT' : 'ARMED_OFFENSE/GUN_INVOLVEMENT',\n",
    "    'DASV-DIST ACTIVE SHOOTER VEH' : 'ARMED_OFFENSE/GUN_INVOLVEMENT',\n",
    "    '6G - RANDOM GUN FIRE' : 'ARMED_OFFENSE/GUN_INVOLVEMENT',\n",
    "    '19 - SHOOTING' : 'ARMED_OFFENSE/GUN_INVOLVEMENT',\n",
    "    '21B - BUSINESS HOLD UP' : 'ARMED_OFFENSE/GUN_INVOLVEMENT',\n",
    "    '28 - OPEN CARRY' : 'ARMED_OFFENSE/GUN_INVOLVEMENT',\n",
    "    'AC - ANIMAL CRUELTY' : 'ANIMAL_CRUELTY/ATTACK',\n",
    "    'AC/01 - ANIMAL CRUELTY IN PROG' : 'ANIMAL_CRUELTY/ATTACK',    \n",
    "    '22A - ANIMAL ATTACK' : 'ANIMAL_CRUELTY/ATTACK',\n",
    "    '41/09 - THEFT - IN PROGRESS' : 'THEFT_OR_ASSAULT_IN_PROGRESS',\n",
    "    '41/09V  - UUMV IN PROGRESS' : 'THEFT_OR_ASSAULT_IN_PROGRESS',\n",
    "    '41/11B - BURG BUSN IN PROGRESS' : 'THEFT_OR_ASSAULT_IN_PROGRESS',\n",
    "    '41/11R - BURG RES IN PROGRESS' : 'THEFT_OR_ASSAULT_IN_PROGRESS',\n",
    "    '41/11V - BMV-IN PROGRESS' : 'THEFT_OR_ASSAULT_IN_PROGRESS',\n",
    "    '41/20 - ROBBERY - IN PROGRESS' : 'THEFT_OR_ASSAULT_IN_PROGRESS',\n",
    "    '41/25 - CRIMINAL ASLT -IN PROG' : 'THEFT_OR_ASSAULT_IN_PROGRESS',\n",
    "    '41/31 - CRIM MIS/PROGRESS/FELO' : 'THEFT_OR_ASSAULT_IN_PROGRESS',\n",
    "    '41/40 - OTHER - IN PROGRESS' : 'THEFT_OR_ASSAULT_IN_PROGRESS',\n",
    "    '25 - CRIMINAL ASSAULT' : 'THEFT_OR_ASSAULT_IN_PROGRESS',\n",
    "    '42 - CHASE' : 'POLICE_CHASE',\n",
    "    '42FP - FOOT PURSUIT' : 'POLICE_CHASE',\n",
    "    '31/01 - CRIM MIS/PROG/NON FELO' : 'CRIMINAL_MISCONDUCT',\n",
    "    '30 - PRISONER' : 'OTHER',\n",
    "    '30/01 - ODO W/PRISONER' : 'OTHER',\n",
    "    '30D - PRISONER OTHER AGENCY' : 'OTHER',\n",
    "    '36/01 - ABAND CHILD CRITICAL' : 'ABANDONMENT',\n",
    "    '24 - ABANDONED PROPERTY' : 'ABANDONMENT',\n",
    "    '29 - OPEN BUILDING' : 'ABANDONMENT',\n",
    "    '33 - PROSTITUTION' : 'PROSTITUTION',\n",
    "    'PSE/40 - OTHER' : 'OTHER',\n",
    "    'WIC - WALK IN CASE' : 'OTHER',\n",
    "    '04 - 911 HANG UP' : 'OTHER',\n",
    "    'ODJ - OFF DUTY JOB' : 'OTHER',\n",
    "    '40 - OTHER' : 'OTHER',\n",
    "    'WIC - WALK IN CASE #' : 'OTHER',\n",
    "    '40/01 - OTHER' : 'OTHER',\n",
    "    '76 - WARRANT SERVICE' : 'OTHER',\n",
    "    'PSE/24 - LOST PROPERTY' : 'OTHER',\n",
    "    '08 - INTOXICATED PERSON' : 'OTHER',\n",
    "    '38 - MEET COMPLAINANT' : 'OTHER',\n",
    "    '70 - ETS ACTIVATION' : 'OTHER',\n",
    "    '7X - MAJOR ACCIDENT' : 'ACCIDENT',\n",
    "    '7CE - CITY EQUIPMENT ACCIDENT' : 'ACCIDENT',\n",
    "    '7XCE - MAJOR ACC CITY EQUIP' : 'ACCIDENT',\n",
    "    '7XF - MAJOR ACCIDENT FREEWAY' : 'ACCIDENT',\n",
    "    '7XFCE - MAJOR ACC FWY CITY EQ' : 'ACCIDENT',\n",
    "    '07 - MINOR ACCIDENT' : 'ACCIDENT',\n",
    "    '6S - SCHOOL DIST (VIOLENCE)' : 'VIOLENCE',\n",
    "    '6X - MAJOR DIST (VIOLENCE)' : 'VIOLENCE',\n",
    "    '25 - CRIMINAL ASSAULT ' : 'VIOLENCE',\n",
    "    '17 - KIDNAPPING IN PROGRESS' : 'KIDNAPPING/MISSING_PERSONS',\n",
    "    '17C - CHILD ABDUCTION' : 'KIDNAPPING/MISSING_PERSONS',\n",
    "    '26 - MISSING PERSON' : 'KIDNAPPING/MISSING_PERSONS',\n",
    "    'PSE/26 - MISSING PERSON' : 'KIDNAPPING/MISSING_PERSONS',\n",
    "    '26/01- MISSING PERSON-CRITICAL' : 'KIDNAPPING/MISSING_PERSONS',\n",
    "    '58 - ROUTINE INVESTIGATION' : 'INVESTIGATION/SUSPICIOUS_PERSON',\n",
    "    'PSE/31- CRIMINAL MISCHIEF' : 'INVESTIGATION/SUSPICIOUS_PERSON',\n",
    "    '31 - CRIMINAL MISCHIEF' : 'INVESTIGATION/SUSPICIOUS_PERSON',\n",
    "    '13 - PROWLER' : 'INVESTIGATION/SUSPICIOUS_PERSON',\n",
    "    '32 - SUSPICIOUS PERSON' : 'INVESTIGATION/SUSPICIOUS_PERSON',\n",
    "    '34 - SUICIDE' : 'SUICIDE/DEAD_PERSONS',\n",
    "    '27 - DEAD PERSON' : 'SUICIDE/DEAD_PERSONS',\n",
    "    '46 - CIT' : 'CRISIS_INTERVENTION',\n",
    "    '46A - CIT W/AMBULANCE' : 'CRISIS_INTERVENTION',\n",
    "    '44 - PERSON IN DANGER HIGH WTR' : 'CRISIS_INTERVENTION',\n",
    "    '34 - SUICIDE' : 'CRISIS_INTERVENTION', })\n",
    "calls = police_df['Call (911) Problem'].value_counts()\n",
    "calls"
   ]
  },
  {
   "cell_type": "code",
   "execution_count": null,
   "metadata": {},
   "outputs": [
    {
     "data": {
      "image/png": "[encoded data removed]",
      "text/plain": [
       "<Figure size 432x288 with 1 Axes>"
      ]
     },
     "metadata": {},
     "output_type": "display_data"
    }
   ],
   "source": [
    "total_crimes_by_watch= police_df.groupby('Watch')['Incident Number w/year'].count()\n",
    "type_labels = 'Watch1', 'Watch2', 'Watch3'\n",
    "colors = ['skyblue', 'lightblue', 'teal']\n",
    "explode = [.00,.00,.1]\n",
    "plt.pie(total_crimes_by_watch, labels= type_labels, colors= colors,\n",
    "autopct='%1.1f%%', shadow=True, explode=explode, startangle=120)\n",
    "plt.title('% of Total Crimes by Watch', fontsize = 18, fontweight='bold') \n",
    "plt.axis('auto')\n",
    "plt.show()"
   ]
  },
  {
   "cell_type": "code",
   "execution_count": null,
   "metadata": {},
   "outputs": [],
   "source": []
  },
  {
   "cell_type": "code",
   "execution_count": null,
   "metadata": {},
   "outputs": [],
   "source": []
  }
 ],
 "metadata": {
  "kernelspec": {
   "display_name": "Python 3",
   "language": "python",
   "name": "python3"
  },
  "language_info": {
   "codemirror_mode": {
    "name": "ipython",
    "version": 3
   },
   "file_extension": ".py",
   "mimetype": "text/x-python",
   "name": "python",
   "nbconvert_exporter": "python",
   "pygments_lexer": "ipython3",
   "version": "3.7.3"
  }
 },
 "nbformat": 4,
 "nbformat_minor": 2
}
