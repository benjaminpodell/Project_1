{
 "cells": [
  {
   "cell_type": "code",
   "execution_count": 1,
   "metadata": {},
   "outputs": [],
   "source": [
    "#import dependencies \n",
    "import requests\n",
    "import json\n",
    "import numpy as np\n",
    "import matplotlib.pyplot as plt\n",
    "from pprint import pprint\n",
    "import pandas as pd\n",
    "from datetime import datetime\n",
    "from dateutil.parser import parse"
   ]
  },
  {
   "cell_type": "code",
   "execution_count": 2,
   "metadata": {},
   "outputs": [
    {
     "data": {
      "text/html": [
       "<div>\n",
       "<style scoped>\n",
       "    .dataframe tbody tr th:only-of-type {\n",
       "        vertical-align: middle;\n",
       "    }\n",
       "\n",
       "    .dataframe tbody tr th {\n",
       "        vertical-align: top;\n",
       "    }\n",
       "\n",
       "    .dataframe thead th {\n",
       "        text-align: right;\n",
       "    }\n",
       "</style>\n",
       "<table border=\"1\" class=\"dataframe\">\n",
       "  <thead>\n",
       "    <tr style=\"text-align: right;\">\n",
       "      <th></th>\n",
       "      <th>Incident Number w/year</th>\n",
       "      <th>Year of Incident</th>\n",
       "      <th>Watch</th>\n",
       "      <th>Call (911) Problem</th>\n",
       "      <th>Type of Incident</th>\n",
       "      <th>Date1 of Occurrence</th>\n",
       "      <th>Month1 of Occurence</th>\n",
       "      <th>Day1 of the Week</th>\n",
       "      <th>Time1 of Occurrence</th>\n",
       "      <th>Call Dispatch Date Time</th>\n",
       "      <th>X Coordinate</th>\n",
       "      <th>Y Cordinate</th>\n",
       "      <th>Zip Code</th>\n",
       "      <th>City</th>\n",
       "      <th>State</th>\n",
       "    </tr>\n",
       "  </thead>\n",
       "  <tbody>\n",
       "    <tr>\n",
       "      <th>0</th>\n",
       "      <td>038164-2018</td>\n",
       "      <td>2018</td>\n",
       "      <td>3</td>\n",
       "      <td>6XEA - DISTURBANCE EMERG AMB</td>\n",
       "      <td>RESIST ARREST SEARCH OR TRANSPORT</td>\n",
       "      <td>2/21/2018</td>\n",
       "      <td>February</td>\n",
       "      <td>Wed</td>\n",
       "      <td>19:30</td>\n",
       "      <td>2/21/2018 19:41</td>\n",
       "      <td>NaN</td>\n",
       "      <td>NaN</td>\n",
       "      <td>NaN</td>\n",
       "      <td>NaN</td>\n",
       "      <td>NaN</td>\n",
       "    </tr>\n",
       "    <tr>\n",
       "      <th>1</th>\n",
       "      <td>066284-2018</td>\n",
       "      <td>2018</td>\n",
       "      <td>1</td>\n",
       "      <td>6X - MAJOR DIST (VIOLENCE)</td>\n",
       "      <td>ASSAULT -PUB SERV (PEACE OFFICER/JUDGE)</td>\n",
       "      <td>3/30/2018</td>\n",
       "      <td>March</td>\n",
       "      <td>Fri</td>\n",
       "      <td>01:40</td>\n",
       "      <td>3/30/2018 01:27</td>\n",
       "      <td>NaN</td>\n",
       "      <td>NaN</td>\n",
       "      <td>NaN</td>\n",
       "      <td>NaN</td>\n",
       "      <td>NaN</td>\n",
       "    </tr>\n",
       "    <tr>\n",
       "      <th>2</th>\n",
       "      <td>086521-2018</td>\n",
       "      <td>2018</td>\n",
       "      <td>3</td>\n",
       "      <td>15A - ASSIST OFFICER W/AMB</td>\n",
       "      <td>ASSAULT (AGG) -DEADLY WEAPON</td>\n",
       "      <td>4/24/2018</td>\n",
       "      <td>April</td>\n",
       "      <td>Tue</td>\n",
       "      <td>16:12</td>\n",
       "      <td>4/24/2018 16:12</td>\n",
       "      <td>NaN</td>\n",
       "      <td>NaN</td>\n",
       "      <td>NaN</td>\n",
       "      <td>NaN</td>\n",
       "      <td>NaN</td>\n",
       "    </tr>\n",
       "    <tr>\n",
       "      <th>3</th>\n",
       "      <td>038164-2018</td>\n",
       "      <td>2018</td>\n",
       "      <td>3</td>\n",
       "      <td>6XEA - DISTURBANCE EMERG AMB</td>\n",
       "      <td>ASSAULT -PUB SERV (PEACE OFFICER/JUDGE)</td>\n",
       "      <td>2/21/2018</td>\n",
       "      <td>February</td>\n",
       "      <td>Wed</td>\n",
       "      <td>19:30</td>\n",
       "      <td>2/21/2018 19:41</td>\n",
       "      <td>NaN</td>\n",
       "      <td>NaN</td>\n",
       "      <td>NaN</td>\n",
       "      <td>NaN</td>\n",
       "      <td>NaN</td>\n",
       "    </tr>\n",
       "    <tr>\n",
       "      <th>4</th>\n",
       "      <td>060055-2018</td>\n",
       "      <td>2018</td>\n",
       "      <td>1</td>\n",
       "      <td>40/01 - OTHER</td>\n",
       "      <td>ASSAULT -PUB SERV (PEACE OFFICER/JUDGE)</td>\n",
       "      <td>3/22/2018</td>\n",
       "      <td>March</td>\n",
       "      <td>Thu</td>\n",
       "      <td>04:45</td>\n",
       "      <td>3/22/2018 04:48</td>\n",
       "      <td>NaN</td>\n",
       "      <td>NaN</td>\n",
       "      <td>NaN</td>\n",
       "      <td>NaN</td>\n",
       "      <td>NaN</td>\n",
       "    </tr>\n",
       "  </tbody>\n",
       "</table>\n",
       "</div>"
      ],
      "text/plain": [
       "  Incident Number w/year  Year of Incident  Watch  \\\n",
       "0            038164-2018              2018      3   \n",
       "1            066284-2018              2018      1   \n",
       "2            086521-2018              2018      3   \n",
       "3            038164-2018              2018      3   \n",
       "4            060055-2018              2018      1   \n",
       "\n",
       "             Call (911) Problem                         Type of Incident  \\\n",
       "0  6XEA - DISTURBANCE EMERG AMB        RESIST ARREST SEARCH OR TRANSPORT   \n",
       "1    6X - MAJOR DIST (VIOLENCE)  ASSAULT -PUB SERV (PEACE OFFICER/JUDGE)   \n",
       "2    15A - ASSIST OFFICER W/AMB             ASSAULT (AGG) -DEADLY WEAPON   \n",
       "3  6XEA - DISTURBANCE EMERG AMB  ASSAULT -PUB SERV (PEACE OFFICER/JUDGE)   \n",
       "4                 40/01 - OTHER  ASSAULT -PUB SERV (PEACE OFFICER/JUDGE)   \n",
       "\n",
       "  Date1 of Occurrence Month1 of Occurence Day1 of the Week  \\\n",
       "0           2/21/2018            February              Wed   \n",
       "1           3/30/2018               March              Fri   \n",
       "2           4/24/2018               April              Tue   \n",
       "3           2/21/2018            February              Wed   \n",
       "4           3/22/2018               March              Thu   \n",
       "\n",
       "  Time1 of Occurrence Call Dispatch Date Time  X Coordinate  Y Cordinate  \\\n",
       "0               19:30         2/21/2018 19:41           NaN          NaN   \n",
       "1               01:40         3/30/2018 01:27           NaN          NaN   \n",
       "2               16:12         4/24/2018 16:12           NaN          NaN   \n",
       "3               19:30         2/21/2018 19:41           NaN          NaN   \n",
       "4               04:45         3/22/2018 04:48           NaN          NaN   \n",
       "\n",
       "   Zip Code City State  \n",
       "0       NaN  NaN   NaN  \n",
       "1       NaN  NaN   NaN  \n",
       "2       NaN  NaN   NaN  \n",
       "3       NaN  NaN   NaN  \n",
       "4       NaN  NaN   NaN  "
      ]
     },
     "execution_count": 2,
     "metadata": {},
     "output_type": "execute_result"
    }
   ],
   "source": [
    "# pulling CSV file\n",
    "police = \"Resources/police_data.csv\"\n",
    "police_df = pd.read_csv(police, encoding=\"ISO-8859-1\")\n",
    "#Preview of the data \n",
    "police_df.head()"
   ]
  },
  {
   "cell_type": "code",
   "execution_count": 3,
   "metadata": {},
   "outputs": [
    {
     "data": {
      "text/plain": [
       "Incident Number w/year     133949\n",
       "Year of Incident           133949\n",
       "Watch                      133949\n",
       "Call (911) Problem         132683\n",
       "Type of Incident           133949\n",
       "Date1 of Occurrence        133949\n",
       "Month1 of Occurence        133949\n",
       "Day1 of the Week           133949\n",
       "Time1 of Occurrence        133949\n",
       "Call Dispatch Date Time    132673\n",
       "X Coordinate                98503\n",
       "Y Cordinate                 98503\n",
       "Zip Code                   133669\n",
       "City                       132123\n",
       "State                      132974\n",
       "dtype: int64"
      ]
     },
     "execution_count": 3,
     "metadata": {},
     "output_type": "execute_result"
    }
   ],
   "source": [
    "#Getting a total count of each column\n",
    "police_df.count()"
   ]
  },
  {
   "cell_type": "code",
   "execution_count": 4,
   "metadata": {},
   "outputs": [
    {
     "data": {
      "text/plain": [
       "Incident Number w/year     95440\n",
       "Year of Incident           95440\n",
       "Watch                      95440\n",
       "Call (911) Problem         95440\n",
       "Type of Incident           95440\n",
       "Date1 of Occurrence        95440\n",
       "Month1 of Occurence        95440\n",
       "Day1 of the Week           95440\n",
       "Time1 of Occurrence        95440\n",
       "Call Dispatch Date Time    95440\n",
       "X Coordinate               95440\n",
       "Y Cordinate                95440\n",
       "Zip Code                   95440\n",
       "City                       95440\n",
       "State                      95440\n",
       "dtype: int64"
      ]
     },
     "execution_count": 4,
     "metadata": {},
     "output_type": "execute_result"
    }
   ],
   "source": [
    "#Cleaning data by dropping NaN values for a complete data set in order to have consitent infromation accross the board\n",
    "police_df = police_df.dropna(how='any')\n",
    "\n",
    "#Getting the new total count of each column\n",
    "police_df.count()"
   ]
  },
  {
   "cell_type": "code",
   "execution_count": 5,
   "metadata": {},
   "outputs": [
    {
     "data": {
      "text/plain": [
       "205      8/4/2018 23:30\n",
       "212    11/30/2018 08:53\n",
       "219    11/18/2018 00:39\n",
       "221    12/31/2018 15:20\n",
       "222     9/21/2018 08:48\n",
       "Name: Call Dispatch Date Time, dtype: object"
      ]
     },
     "execution_count": 5,
     "metadata": {},
     "output_type": "execute_result"
    }
   ],
   "source": [
    "#Preview of the dispatch time\n",
    "police_df['Call Dispatch Date Time'].head()"
   ]
  },
  {
   "cell_type": "code",
   "execution_count": 6,
   "metadata": {},
   "outputs": [
    {
     "data": {
      "text/plain": [
       "205    23:30\n",
       "212    08:53\n",
       "219    00:39\n",
       "221    15:20\n",
       "222    08:48\n",
       "Name: 1, dtype: object"
      ]
     },
     "execution_count": 6,
     "metadata": {},
     "output_type": "execute_result"
    }
   ],
   "source": [
    "#Splitting the dispatch_time to get the time of day\n",
    "dispatch_time_split = police_df['Call Dispatch Date Time'].str.split(expand=True)\n",
    "dispatch_time = dispatch_time_split[1]\n",
    "dispatch_time.head()"
   ]
  },
  {
   "cell_type": "code",
   "execution_count": 7,
   "metadata": {},
   "outputs": [
    {
     "data": {
      "text/plain": [
       "205    21:54\n",
       "212    15:20\n",
       "219    00:25\n",
       "221    14:00\n",
       "222    08:48\n",
       "Name: Time1 of Occurrence, dtype: object"
      ]
     },
     "execution_count": 7,
     "metadata": {},
     "output_type": "execute_result"
    }
   ],
   "source": [
    "#Pulling the time that the incident occured (to compare the difference)\n",
    "incident_time = police_df['Time1 of Occurrence']\n",
    "incident_time.head()"
   ]
  },
  {
   "cell_type": "code",
   "execution_count": 8,
   "metadata": {},
   "outputs": [],
   "source": [
    "#Converting both times into leteral quantitative time \n",
    "dispatch_time_conversion = [datetime.strptime(x, '%H:%M') for x in dispatch_time]\n",
    "incident_time_conversion = [datetime.strptime(x, '%H:%M') for x in incident_time]\n",
    "\n",
    "#convert all time to minutes for the purpose of deriving the difference.\n",
    "dispatch_time_minutes = (pd.to_datetime(dispatch_time_conversion).hour * 60) + (pd.to_datetime(dispatch_time_conversion).minute)\n",
    "incident_time_minutes = (pd.to_datetime(incident_time_conversion).hour * 60) + (pd.to_datetime(incident_time_conversion).minute)"
   ]
  },
  {
   "cell_type": "code",
   "execution_count": 9,
   "metadata": {},
   "outputs": [
    {
     "data": {
      "text/html": [
       "<div>\n",
       "<style scoped>\n",
       "    .dataframe tbody tr th:only-of-type {\n",
       "        vertical-align: middle;\n",
       "    }\n",
       "\n",
       "    .dataframe tbody tr th {\n",
       "        vertical-align: top;\n",
       "    }\n",
       "\n",
       "    .dataframe thead th {\n",
       "        text-align: right;\n",
       "    }\n",
       "</style>\n",
       "<table border=\"1\" class=\"dataframe\">\n",
       "  <thead>\n",
       "    <tr style=\"text-align: right;\">\n",
       "      <th></th>\n",
       "      <th>Dispatch</th>\n",
       "      <th>Incident</th>\n",
       "    </tr>\n",
       "  </thead>\n",
       "  <tbody>\n",
       "    <tr>\n",
       "      <th>0</th>\n",
       "      <td>1410</td>\n",
       "      <td>1314</td>\n",
       "    </tr>\n",
       "    <tr>\n",
       "      <th>1</th>\n",
       "      <td>533</td>\n",
       "      <td>920</td>\n",
       "    </tr>\n",
       "    <tr>\n",
       "      <th>2</th>\n",
       "      <td>39</td>\n",
       "      <td>25</td>\n",
       "    </tr>\n",
       "    <tr>\n",
       "      <th>3</th>\n",
       "      <td>920</td>\n",
       "      <td>840</td>\n",
       "    </tr>\n",
       "    <tr>\n",
       "      <th>4</th>\n",
       "      <td>528</td>\n",
       "      <td>528</td>\n",
       "    </tr>\n",
       "  </tbody>\n",
       "</table>\n",
       "</div>"
      ],
      "text/plain": [
       "   Dispatch  Incident\n",
       "0      1410      1314\n",
       "1       533       920\n",
       "2        39        25\n",
       "3       920       840\n",
       "4       528       528"
      ]
     },
     "execution_count": 9,
     "metadata": {},
     "output_type": "execute_result"
    }
   ],
   "source": [
    "#Create a minutes_time_df that holds the dispatch_time_minutes and the incident_time_minutes\n",
    "minutes_time_df = pd.DataFrame({\"Dispatch\": dispatch_time_minutes, \n",
    "                            \"Incident\": incident_time_minutes})\n",
    "minutes_time_df.head()"
   ]
  },
  {
   "cell_type": "code",
   "execution_count": 12,
   "metadata": {},
   "outputs": [
    {
     "data": {
      "text/plain": [
       "0     96\n",
       "1   -387\n",
       "2     14\n",
       "3     80\n",
       "4      0\n",
       "dtype: int64"
      ]
     },
     "execution_count": 12,
     "metadata": {},
     "output_type": "execute_result"
    }
   ],
   "source": [
    "#make a response_time_minutes using the minutes_time_df \n",
    "response_time_minutes = minutes_time_df['Dispatch'] - minutes_time_df['Incident']\n",
    "response_time_minutes.head()"
   ]
  },
  {
   "cell_type": "code",
   "execution_count": 17,
   "metadata": {},
   "outputs": [],
   "source": [
    "#Add the dispatch_time_minutes, incident_time_minutes and response_time_minutes to the police_df\n",
    "police_df['Time_of_Dispatch'] = dispatch_time_minutes\n",
    "police_df['Time_of_Incident'] = incident_time_minutes\n",
    "police_df['Response_Time'] = response_time_minutes"
   ]
  },
  {
   "cell_type": "code",
   "execution_count": 18,
   "metadata": {},
   "outputs": [
    {
     "data": {
      "text/html": [
       "<div>\n",
       "<style scoped>\n",
       "    .dataframe tbody tr th:only-of-type {\n",
       "        vertical-align: middle;\n",
       "    }\n",
       "\n",
       "    .dataframe tbody tr th {\n",
       "        vertical-align: top;\n",
       "    }\n",
       "\n",
       "    .dataframe thead th {\n",
       "        text-align: right;\n",
       "    }\n",
       "</style>\n",
       "<table border=\"1\" class=\"dataframe\">\n",
       "  <thead>\n",
       "    <tr style=\"text-align: right;\">\n",
       "      <th></th>\n",
       "      <th>Incident Number w/year</th>\n",
       "      <th>Year of Incident</th>\n",
       "      <th>Watch</th>\n",
       "      <th>Call (911) Problem</th>\n",
       "      <th>Type of Incident</th>\n",
       "      <th>Date1 of Occurrence</th>\n",
       "      <th>Month1 of Occurence</th>\n",
       "      <th>Day1 of the Week</th>\n",
       "      <th>Time1 of Occurrence</th>\n",
       "      <th>Call Dispatch Date Time</th>\n",
       "      <th>X Coordinate</th>\n",
       "      <th>Y Cordinate</th>\n",
       "      <th>Zip Code</th>\n",
       "      <th>City</th>\n",
       "      <th>State</th>\n",
       "      <th>Time_of_Dispatch</th>\n",
       "      <th>Time_of_Incident</th>\n",
       "      <th>Response_Time</th>\n",
       "    </tr>\n",
       "  </thead>\n",
       "  <tbody>\n",
       "    <tr>\n",
       "      <th>205</th>\n",
       "      <td>171565-2018</td>\n",
       "      <td>2018</td>\n",
       "      <td>3</td>\n",
       "      <td>40 - OTHER</td>\n",
       "      <td>VIO PROTECT ORDER BIAS/PREJUDICE</td>\n",
       "      <td>8/4/2018</td>\n",
       "      <td>August</td>\n",
       "      <td>Sat</td>\n",
       "      <td>21:54</td>\n",
       "      <td>8/4/2018 23:30</td>\n",
       "      <td>2476498.585</td>\n",
       "      <td>6971715.153</td>\n",
       "      <td>75212.0</td>\n",
       "      <td>DALLAS</td>\n",
       "      <td>TX</td>\n",
       "      <td>1410</td>\n",
       "      <td>1314</td>\n",
       "      <td>64.0</td>\n",
       "    </tr>\n",
       "    <tr>\n",
       "      <th>212</th>\n",
       "      <td>257226-2018</td>\n",
       "      <td>2018</td>\n",
       "      <td>2</td>\n",
       "      <td>58 - ROUTINE INVESTIGATION</td>\n",
       "      <td>ABANDONED PROPERTY (NO OFFENSE)</td>\n",
       "      <td>11/26/2018</td>\n",
       "      <td>November</td>\n",
       "      <td>Mon</td>\n",
       "      <td>15:20</td>\n",
       "      <td>11/30/2018 08:53</td>\n",
       "      <td>2548241.858</td>\n",
       "      <td>6932130.126</td>\n",
       "      <td>75253.0</td>\n",
       "      <td>DALLAS</td>\n",
       "      <td>TX</td>\n",
       "      <td>533</td>\n",
       "      <td>920</td>\n",
       "      <td>11.0</td>\n",
       "    </tr>\n",
       "    <tr>\n",
       "      <th>219</th>\n",
       "      <td>249258-2018</td>\n",
       "      <td>2018</td>\n",
       "      <td>1</td>\n",
       "      <td>7X - MAJOR ACCIDENT</td>\n",
       "      <td>PUBLIC INTOXICATION</td>\n",
       "      <td>11/18/2018</td>\n",
       "      <td>November</td>\n",
       "      <td>Sun</td>\n",
       "      <td>00:25</td>\n",
       "      <td>11/18/2018 00:39</td>\n",
       "      <td>2525365.155</td>\n",
       "      <td>6960102.895</td>\n",
       "      <td>75217.0</td>\n",
       "      <td>DALLAS</td>\n",
       "      <td>TX</td>\n",
       "      <td>39</td>\n",
       "      <td>25</td>\n",
       "      <td>156.0</td>\n",
       "    </tr>\n",
       "    <tr>\n",
       "      <th>221</th>\n",
       "      <td>279186-2018</td>\n",
       "      <td>2018</td>\n",
       "      <td>2</td>\n",
       "      <td>16 - INJURED PERSON</td>\n",
       "      <td>ASSAULT -BODILY INJURY ONLY</td>\n",
       "      <td>12/31/2018</td>\n",
       "      <td>December</td>\n",
       "      <td>Mon</td>\n",
       "      <td>14:00</td>\n",
       "      <td>12/31/2018 15:20</td>\n",
       "      <td>2496126.907</td>\n",
       "      <td>6941940.628</td>\n",
       "      <td>75216.0</td>\n",
       "      <td>DALLAS</td>\n",
       "      <td>TX</td>\n",
       "      <td>920</td>\n",
       "      <td>840</td>\n",
       "      <td>-1.0</td>\n",
       "    </tr>\n",
       "    <tr>\n",
       "      <th>222</th>\n",
       "      <td>209518-2018</td>\n",
       "      <td>2018</td>\n",
       "      <td>2</td>\n",
       "      <td>55 - TRAFFIC STOP</td>\n",
       "      <td>WARRANT-DALLAS PD (ALIAS/CAPIAS)</td>\n",
       "      <td>9/21/2018</td>\n",
       "      <td>September</td>\n",
       "      <td>Fri</td>\n",
       "      <td>08:48</td>\n",
       "      <td>9/21/2018 08:48</td>\n",
       "      <td>2487800.730</td>\n",
       "      <td>6937829.316</td>\n",
       "      <td>75216.0</td>\n",
       "      <td>DALLAS</td>\n",
       "      <td>TX</td>\n",
       "      <td>528</td>\n",
       "      <td>528</td>\n",
       "      <td>0.0</td>\n",
       "    </tr>\n",
       "  </tbody>\n",
       "</table>\n",
       "</div>"
      ],
      "text/plain": [
       "    Incident Number w/year  Year of Incident  Watch  \\\n",
       "205            171565-2018              2018      3   \n",
       "212            257226-2018              2018      2   \n",
       "219            249258-2018              2018      1   \n",
       "221            279186-2018              2018      2   \n",
       "222            209518-2018              2018      2   \n",
       "\n",
       "             Call (911) Problem                  Type of Incident  \\\n",
       "205                  40 - OTHER  VIO PROTECT ORDER BIAS/PREJUDICE   \n",
       "212  58 - ROUTINE INVESTIGATION   ABANDONED PROPERTY (NO OFFENSE)   \n",
       "219         7X - MAJOR ACCIDENT               PUBLIC INTOXICATION   \n",
       "221         16 - INJURED PERSON       ASSAULT -BODILY INJURY ONLY   \n",
       "222           55 - TRAFFIC STOP  WARRANT-DALLAS PD (ALIAS/CAPIAS)   \n",
       "\n",
       "    Date1 of Occurrence Month1 of Occurence Day1 of the Week  \\\n",
       "205            8/4/2018              August              Sat   \n",
       "212          11/26/2018            November              Mon   \n",
       "219          11/18/2018            November              Sun   \n",
       "221          12/31/2018            December              Mon   \n",
       "222           9/21/2018           September              Fri   \n",
       "\n",
       "    Time1 of Occurrence Call Dispatch Date Time  X Coordinate  Y Cordinate  \\\n",
       "205               21:54          8/4/2018 23:30   2476498.585  6971715.153   \n",
       "212               15:20        11/30/2018 08:53   2548241.858  6932130.126   \n",
       "219               00:25        11/18/2018 00:39   2525365.155  6960102.895   \n",
       "221               14:00        12/31/2018 15:20   2496126.907  6941940.628   \n",
       "222               08:48         9/21/2018 08:48   2487800.730  6937829.316   \n",
       "\n",
       "     Zip Code    City State  Time_of_Dispatch  Time_of_Incident  Response_Time  \n",
       "205   75212.0  DALLAS    TX              1410              1314           64.0  \n",
       "212   75253.0  DALLAS    TX               533               920           11.0  \n",
       "219   75217.0  DALLAS    TX                39                25          156.0  \n",
       "221   75216.0  DALLAS    TX               920               840           -1.0  \n",
       "222   75216.0  DALLAS    TX               528               528            0.0  "
      ]
     },
     "execution_count": 18,
     "metadata": {},
     "output_type": "execute_result"
    }
   ],
   "source": [
    "police_df.head()"
   ]
  },
  {
   "cell_type": "code",
   "execution_count": 19,
   "metadata": {},
   "outputs": [
    {
     "data": {
      "text/plain": [
       "Watch\n",
       "1    32613\n",
       "2    28896\n",
       "3    33931\n",
       "Name: Incident Number w/year, dtype: int64"
      ]
     },
     "execution_count": 19,
     "metadata": {},
     "output_type": "execute_result"
    }
   ],
   "source": [
    "#find out how many incidents occured within which watch (split between times of the day)\n",
    "watch_count = police_df.groupby('Watch')['Incident Number w/year'].count()\n",
    "watch_count"
   ]
  },
  {
   "cell_type": "code",
   "execution_count": 20,
   "metadata": {},
   "outputs": [],
   "source": [
    "#pulling the type of \"crime\" that is being called in and the count to the type of crime \n",
    "#police_df['Call (911) Problem'].value_counts()"
   ]
  },
  {
   "cell_type": "code",
   "execution_count": 21,
   "metadata": {},
   "outputs": [
    {
     "data": {
      "text/plain": [
       "SUSPICIOUS_PERSON      20350\n",
       "BURGLARY               14110\n",
       "OTHER                  11133\n",
       "VEHICLE_VIOLATIONS     10530\n",
       "VIOLENCE                7626\n",
       "THEFT                   6376\n",
       "ALARMS_DISTURBANCE      5937\n",
       "ACCIDENT                4619\n",
       "ROBBERY                 3222\n",
       "ARMED_OFFENSE           2570\n",
       "CRIME_IN_PROGRESS       2060\n",
       "ABANDONMENT             1979\n",
       "ASSISTING_OFFICER       1165\n",
       "INJURY                  1082\n",
       "CRISIS_INTERVENTION      908\n",
       "FIRE                     620\n",
       "DRUG_RELATED             326\n",
       "CRIMINAL_MISCONDUCT      299\n",
       "MINOR_OFFENSES           186\n",
       "ANIMAL_CRUELTY           151\n",
       "POLICE_CHASE              75\n",
       "MISSING_PERSONS           62\n",
       "SUICIDE/DEATH             36\n",
       "PROSTITUTION              18\n",
       "Name: Call (911) Problem, dtype: int64"
      ]
     },
     "execution_count": 21,
     "metadata": {},
     "output_type": "execute_result"
    }
   ],
   "source": [
    "police_df['Call (911) Problem'] = police_df['Call (911) Problem'].replace(\n",
    "    {'09 - THEFT': 'THEFT',\n",
    "    '09/01 - THEFT' : 'THEFT',\n",
    "    'PSE/09 - THEFT': 'THEFT', \n",
    "    '20 - ROBBERY' : 'ROBBERY', \n",
    "    '20R - ROBBERY (REPORT)+1HR': 'ROBBERY',\n",
    "    '12B - BUSINESS ALARM' : 'ALARMS_DISTURBANCE',\n",
    "    '12N - BURGLAR ALARM NONDISP': 'ALARMS_DISTURBANCE', \n",
    "    '12R - RESIDENTIAL ALARM': 'ALARMS_DISTURBANCE',\n",
    "    '21R - RES PANIC  ALARM': 'ALARMS_DISTURBANCE', \n",
    "    '6XE - DISTURBANCE EMERGENCY': 'ALARMS_DISTURBANCE',\n",
    "    'ARSON -ALL OTHERS': 'ALARMS_DISTURBANCE', \n",
    "    '6XA - MAJOR DIST  AMBULANCE': 'ALARMS_DISTURBANCE',\n",
    "    '6XEA - DISTURBANCE EMERG AMB': 'ALARMS_DISTURBANCE', \n",
    "    '6M - LOUD MUSIC DISTURBANCE': 'ALARMS_DISTURBANCE',\n",
    "    \"6X/01 WOMEN'S SHELTER DIST\": 'ALARMS_DISTURBANCE',\n",
    "    '22 - ANIMAL DISTURBANCE' : 'ALARMS_DISTURBANCE',\n",
    "    '12 - BURGLAR ALARM UNKNOWN' : 'ALARMS_DISTURBANCE',\n",
    "    '15 - ASSIST OFFICER': 'ASSISTING_OFFICER', \n",
    "    '15A - ASSIST OFFICER W/AMB': 'ASSISTING_OFFICER',\n",
    "    '14 - STABBING, CUTTING': 'INJURY', \n",
    "    '16 - INJURED PERSON': 'INJURY',\n",
    "    '16A - INJURED PERSON W/AMB': 'INJURY', \n",
    "    '11B - BURG OF BUS' : 'BURGLARY',\n",
    "    '11B/01 - BURG OF BUS': 'BURGLARY',\n",
    "    '11C - BURG COIN OPER' : 'BURGLARY',\n",
    "    '11C/01 - BURG COIN OPER' : 'BURGLARY',\n",
    "    '11R - BURG OF RES' : 'BURGLARY',\n",
    "    '11R/01 - BURG OF RES' : 'BURGLARY',\n",
    "    '11V - BURG MOTOR VEH' : 'BURGLARY',\n",
    "    '11V/01 - BURG MOTOR VEH' : 'BURGLARY',\n",
    "    'PSE/11B - BURG OF BUS' : 'BURGLARY',\n",
    "    'PSE/11C -  BURG COIN OP' : 'BURGLARY',\n",
    "    'PSE/11R - BURG OF RES' : 'BURGLARY',\n",
    "    'PSE/11V - BURG MOTOR VEH' : 'BURGLARY',\n",
    "    '18 - STRUCTURE FIRE' : 'FIRE',\n",
    "    '18A - VEHICLE FIRE' : 'FIRE',\n",
    "    '**PD REQUESTED BY FIRE' : 'FIRE',\n",
    "    'SIP - SLEEPING IN PUBLIC' : 'MINOR_OFFENSES',\n",
    "    '06 - MINOR DISTURBANCE' : 'MINOR_OFFENSES',\n",
    "    'PH - PANHANDLER' : 'MINOR_OFFENSES',\n",
    "    'PSE/11R - BURG OF RES' : 'BURGLARY',\n",
    "    'PSE/11V - BURG MOTOR VEH' : 'BURGLARY',\n",
    "    'TOW - TOWREPO' : 'VEHICLE_VIOLATIONS',\n",
    "    '23 - PARKING VIOLATION' : 'VEHICLE_VIOLATIONS',\n",
    "    'PK - PARK CHECK' : 'VEHICLE_VIOLATIONS',\n",
    "    '55 - TRAFFIC STOP' : 'VEHICLE_VIOLATIONS',\n",
    "    'BCA - BAIT CAR ACTIVATION' : 'VEHICLE_VIOLATIONS',\n",
    "    '09V - UUMV' : 'VEHICLE_VIOLATIONS',\n",
    "    '09V-01 UUMV JUST OCRD' : 'VEHICLE_VIOLATIONS',\n",
    "    '43 - ROAD RAGE' : 'VEHICLE_VIOLATIONS',\n",
    "    '37 - STREET BLOCKAGE' : 'VEHICLE_VIOLATIONS',\n",
    "    '37F - FREEWAY BLOCKAGE' : 'VEHICLE_VIOLATIONS',\n",
    "    '39 - SPEEDING/RACING' : 'VEHICLE_VIOLATIONS',\n",
    "    'PSE/09V - UUMV' : 'VEHICLE_VIOLATIONS',\n",
    "    'DH - DRUG HOUSE' : 'DRUG_RELATED',\n",
    "    'OADS - OPEN AIR DRUG SALES' : 'DRUG_RELATED',\n",
    "    'DAEF-DIST ARMED ENCOUNTER FOOT' : 'ARMED_OFFENSE',\n",
    "    'DAEV-DIST ARMED ENCOUNTER VEH' : 'ARMED_OFFENSE',\n",
    "    'DASF-DIST ACTIVE SHOOTER FOOT' : 'ARMED_OFFENSE',\n",
    "    'DASV-DIST ACTIVE SHOOTER VEH' : 'ARMED_OFFENSE',\n",
    "    '6G - RANDOM GUN FIRE' : 'ARMED_OFFENSE',\n",
    "    '19 - SHOOTING' : 'ARMED_OFFENSE',\n",
    "    '21B - BUSINESS HOLD UP' : 'ARMED_OFFENSE',\n",
    "    '28 - OPEN CARRY' : 'ARMED_OFFENSE',\n",
    "    'AC - ANIMAL CRUELTY' : 'ANIMAL_CRUELTY',\n",
    "    'AC/01 - ANIMAL CRUELTY IN PROG' : 'ANIMAL_CRUELTY',    \n",
    "    '22A - ANIMAL ATTACK' : 'ANIMAL_CRUELTY',\n",
    "    '41/09 - THEFT - IN PROGRESS' : 'CRIME_IN_PROGRESS',\n",
    "    '41/09V  - UUMV IN PROGRESS' : 'CRIME_IN_PROGRESS',\n",
    "    '41/11B - BURG BUSN IN PROGRESS' : 'CRIME_IN_PROGRESS',\n",
    "    '41/11R - BURG RES IN PROGRESS' : 'CRIME_IN_PROGRESS',\n",
    "    '41/11V - BMV-IN PROGRESS' : 'CRIME_IN_PROGRESS',\n",
    "    '41/20 - ROBBERY - IN PROGRESS' : 'CRIME_IN_PROGRESS',\n",
    "    '41/25 - CRIMINAL ASLT -IN PROG' : 'CRIME_IN_PROGRESS',\n",
    "    '41/31 - CRIM MIS/PROGRESS/FELO' : 'CRIME_IN_PROGRESS',\n",
    "    '41/40 - OTHER - IN PROGRESS' : 'CRIME_IN_PROGRESS',\n",
    "    '25 - CRIMINAL ASSAULT' : 'CRIME_IN_PROGRESS',\n",
    "    '42 - CHASE' : 'POLICE_CHASE',\n",
    "    '42FP - FOOT PURSUIT' : 'POLICE_CHASE',\n",
    "    '31/01 - CRIM MIS/PROG/NON FELO' : 'CRIMINAL_MISCONDUCT',\n",
    "    '30 - PRISONER' : 'OTHER',\n",
    "    '30/01 - ODO W/PRISONER' : 'OTHER',\n",
    "    '30D - PRISONER OTHER AGENCY' : 'OTHER',\n",
    "    '36/01 - ABAND CHILD CRITICAL' : 'ABANDONMENT',\n",
    "    '24 - ABANDONED PROPERTY' : 'ABANDONMENT',\n",
    "    '29 - OPEN BUILDING' : 'ABANDONMENT',\n",
    "    '33 - PROSTITUTION' : 'PROSTITUTION',\n",
    "    'PSE/40 - OTHER' : 'OTHER',\n",
    "    'WIC - WALK IN CASE' : 'OTHER',\n",
    "    '04 - 911 HANG UP' : 'OTHER',\n",
    "    'ODJ - OFF DUTY JOB' : 'OTHER',\n",
    "    '40 - OTHER' : 'OTHER',\n",
    "    'WIC - WALK IN CASE #' : 'OTHER',\n",
    "    '40/01 - OTHER' : 'OTHER',\n",
    "    '76 - WARRANT SERVICE' : 'OTHER',\n",
    "    'PSE/24 - LOST PROPERTY' : 'OTHER',\n",
    "    '08 - INTOXICATED PERSON' : 'OTHER',\n",
    "    '38 - MEET COMPLAINANT' : 'OTHER',\n",
    "    '70 - ETS ACTIVATION' : 'OTHER',\n",
    "    '7X - MAJOR ACCIDENT' : 'ACCIDENT',\n",
    "    '7CE - CITY EQUIPMENT ACCIDENT' : 'ACCIDENT',\n",
    "    '7XCE - MAJOR ACC CITY EQUIP' : 'ACCIDENT',\n",
    "    '7XF - MAJOR ACCIDENT FREEWAY' : 'ACCIDENT',\n",
    "    '7XFCE - MAJOR ACC FWY CITY EQ' : 'ACCIDENT',\n",
    "    '07 - MINOR ACCIDENT' : 'ACCIDENT',\n",
    "    '6S - SCHOOL DIST (VIOLENCE)' : 'VIOLENCE',\n",
    "    '6X - MAJOR DIST (VIOLENCE)' : 'VIOLENCE',\n",
    "    '25 - CRIMINAL ASSAULT ' : 'VIOLENCE',\n",
    "    '17 - KIDNAPPING IN PROGRESS' : 'MISSING_PERSONS',\n",
    "    '17C - CHILD ABDUCTION' : 'MISSING_PERSONS',\n",
    "    '26 - MISSING PERSON' : 'MISSING_PERSONS',\n",
    "    'PSE/26 - MISSING PERSON' : 'MISSING_PERSONS',\n",
    "    '26/01- MISSING PERSON-CRITICAL' : 'MISSING_PERSONS',\n",
    "    '58 - ROUTINE INVESTIGATION' : 'SUSPICIOUS_PERSON',\n",
    "    'PSE/31- CRIMINAL MISCHIEF' : 'SUSPICIOUS_PERSON',\n",
    "    '31 - CRIMINAL MISCHIEF' : 'SUSPICIOUS_PERSON',\n",
    "    '13 - PROWLER' : 'SUSPICIOUS_PERSON',\n",
    "    '32 - SUSPICIOUS PERSON' : 'SUSPICIOUS_PERSON',\n",
    "    '34 - SUICIDE' : 'SUICIDE/DEATH',\n",
    "    '27 - DEAD PERSON' : 'SUICIDE/DEATH',\n",
    "    '46 - CIT' : 'CRISIS_INTERVENTION',\n",
    "    '46A - CIT W/AMBULANCE' : 'CRISIS_INTERVENTION',\n",
    "    '44 - PERSON IN DANGER HIGH WTR' : 'CRISIS_INTERVENTION',\n",
    "    '34 - SUICIDE' : 'CRISIS_INTERVENTION'})\n",
    "calls = police_df['Call (911) Problem'].value_counts()\n",
    "calls"
   ]
  },
  {
   "cell_type": "code",
   "execution_count": 22,
   "metadata": {},
   "outputs": [
    {
     "data": {
      "image/png": "[encoded data removed]",
      "text/plain": [
       "<Figure size 432x288 with 1 Axes>"
      ]
     },
     "metadata": {},
     "output_type": "display_data"
    }
   ],
   "source": [
    "total_crimes_by_watch= police_df.groupby('Watch')['Incident Number w/year'].count()\n",
    "type_labels = 'Watch 1: Midnight Shift', 'Watch 2: Day Shift', 'Watch 3: Evening shift'\n",
    "colors = ['skyblue', 'lightblue', 'teal']\n",
    "explode = [.0,.0,.1]\n",
    "plt.pie(total_crimes_by_watch, labels= type_labels, colors= colors,\n",
    "autopct='%1.1f%%', shadow=True, explode=explode, startangle=120)\n",
    "plt.title('% of Total Crimes by Watch', fontsize = 18, fontweight='bold') \n",
    "plt.axis(\"equal\")\n",
    "plt.show()"
   ]
  },
  {
   "cell_type": "code",
   "execution_count": 23,
   "metadata": {},
   "outputs": [
    {
     "data": {
      "image/png": "[encoded data removed]",
      "text/plain": [
       "<Figure size 432x288 with 1 Axes>"
      ]
     },
     "metadata": {
      "needs_background": "light"
     },
     "output_type": "display_data"
    }
   ],
   "source": [
    "calls.plot(kind=\"bar\", facecolor='darkblue')\n",
    "plt.title(\"Total Number of Incidents By Type\", fontsize=18, fontweight='bold')\n",
    "plt.ylabel(\"Number of Incidents\", fontsize=12)\n",
    "plt.xlabel(\"Type of Incidents\", fontsize=12)\n",
    "plt.rcParams[\"figure.figsize\"] = (24,3)\n",
    "plt.show()"
   ]
  },
  {
   "cell_type": "code",
   "execution_count": 24,
   "metadata": {},
   "outputs": [
    {
     "ename": "NameError",
     "evalue": "name 'dispatch_total' is not defined",
     "output_type": "error",
     "traceback": [
      "\u001b[1;31m---------------------------------------------------------------------------\u001b[0m",
      "\u001b[1;31mNameError\u001b[0m                                 Traceback (most recent call last)",
      "\u001b[1;32m<ipython-input-24-186cd48b5dbb>\u001b[0m in \u001b[0;36m<module>\u001b[1;34m\u001b[0m\n\u001b[1;32m----> 1\u001b[1;33m \u001b[0mpolice_df\u001b[0m\u001b[1;33m[\u001b[0m\u001b[1;34m'Time_of_Dispatch'\u001b[0m\u001b[1;33m]\u001b[0m \u001b[1;33m=\u001b[0m \u001b[0mdispatch_total\u001b[0m\u001b[1;33m\u001b[0m\u001b[1;33m\u001b[0m\u001b[0m\n\u001b[0m\u001b[0;32m      2\u001b[0m \u001b[0mpolice_df\u001b[0m\u001b[1;33m[\u001b[0m\u001b[1;34m'Time_of_Incident'\u001b[0m\u001b[1;33m]\u001b[0m \u001b[1;33m=\u001b[0m \u001b[0mincident_total\u001b[0m\u001b[1;33m\u001b[0m\u001b[1;33m\u001b[0m\u001b[0m\n\u001b[0;32m      3\u001b[0m \u001b[0mpolice_df\u001b[0m\u001b[1;33m[\u001b[0m\u001b[1;34m'Response_Time'\u001b[0m\u001b[1;33m]\u001b[0m \u001b[1;33m=\u001b[0m \u001b[0mresponse_time\u001b[0m\u001b[1;33m\u001b[0m\u001b[1;33m\u001b[0m\u001b[0m\n",
      "\u001b[1;31mNameError\u001b[0m: name 'dispatch_total' is not defined"
     ]
    }
   ],
   "source": [
    "police_df['Time_of_Dispatch'] = dispatch_total\n",
    "police_df['Time_of_Incident'] = incident_total\n",
    "police_df['Response_Time'] = response_time"
   ]
  },
  {
   "cell_type": "code",
   "execution_count": null,
   "metadata": {},
   "outputs": [],
   "source": [
    "police_df.head()"
   ]
  },
  {
   "cell_type": "code",
   "execution_count": 25,
   "metadata": {},
   "outputs": [
    {
     "data": {
      "image/png": "[encoded data removed]",
      "text/plain": [
       "<Figure size 1728x216 with 1 Axes>"
      ]
     },
     "metadata": {
      "needs_background": "light"
     },
     "output_type": "display_data"
    }
   ],
   "source": [
    "month_count = police_df.groupby('Month1 of Occurence')['Incident Number w/year'].count()\n",
    "month_count\n",
    "\n",
    "number = [1, 2, 3, 4, 5, 6, 7, 8, 9, 10, 11, 12]\n",
    "combined_watches = [8040, 4525, 5775, 5631, 5814, 6124, 10878, 10908, 9462, 8572, 9428, 10283]\n",
    "\n",
    "tester_line, = plt.plot(number, combined_watches, color='green', label='Testing Line')\n",
    "\n",
    "plt.title('Number of Incidents a Month (per Watch)')\n",
    "plt.xlabel('Number Month in Year')\n",
    "plt.ylabel('Numbe of Incidents')\n",
    "\n",
    "plt.legend(handles= [tester_line], loc='best')\n",
    "plt.grid()\n",
    "plt.show()\n",
    "\n",
    "#Disregard previous to — relevant to text to add tomorrow post push\n",
    "\n",
    "####Do we want to incoporporate the \"type\" of incidetn as \"s\" value or maintain the two, because then a bar chart makes most sense for the particular up above data "
   ]
  },
  {
   "cell_type": "code",
   "execution_count": null,
   "metadata": {},
   "outputs": [],
   "source": []
  },
  {
   "cell_type": "code",
   "execution_count": null,
   "metadata": {},
   "outputs": [],
   "source": []
  },
  {
   "cell_type": "code",
   "execution_count": null,
   "metadata": {},
   "outputs": [],
   "source": []
  },
  {
   "cell_type": "code",
   "execution_count": null,
   "metadata": {},
   "outputs": [],
   "source": []
  }
 ],
 "metadata": {
  "kernelspec": {
   "display_name": "Python 3",
   "language": "python",
   "name": "python3"
  },
  "language_info": {
   "codemirror_mode": {
    "name": "ipython",
    "version": 3
   },
   "file_extension": ".py",
   "mimetype": "text/x-python",
   "name": "python",
   "nbconvert_exporter": "python",
   "pygments_lexer": "ipython3",
   "version": "3.7.3"
  }
 },
 "nbformat": 4,
 "nbformat_minor": 2
}
