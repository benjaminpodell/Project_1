{
 "cells": [
  {
   "cell_type": "code",
   "execution_count": 1,
   "metadata": {},
   "outputs": [],
   "source": [
    "#import dependencies \n",
    "import requests\n",
    "import json\n",
    "import matplotlib as plt\n",
    "from pprint import pprint\n",
    "import pandas as pd"
   ]
  },
  {
   "cell_type": "code",
   "execution_count": 4,
   "metadata": {},
   "outputs": [],
   "source": [
    "# pulling Csv file\n",
    "police = \"Resources/police_data.csv\"\n",
    "police_df = pd.read_csv(police, encoding=\"ISO-8859-1\")\n",
    "\n",
    "#police_df.head()\n",
    "#police_df.count()"
   ]
  },
  {
   "cell_type": "code",
   "execution_count": 8,
   "metadata": {},
   "outputs": [
    {
     "data": {
      "text/plain": [
       "Incident Number w/year     91997\n",
       "Year of Incident           91997\n",
       "Watch                      91997\n",
       "Call (911) Problem         91997\n",
       "Type of Incident           91997\n",
       "Type  Location             91997\n",
       "Date1 of Occurrence        91997\n",
       "Month1 of Occurence        91997\n",
       "Day1 of the Week           91997\n",
       "Time1 of Occurrence        91997\n",
       "Call Dispatch Date Time    91997\n",
       "Victim Type                91997\n",
       "Modus Operandi (MO)        91997\n",
       "Update Date                91997\n",
       "X Coordinate               91997\n",
       "Y Cordinate                91997\n",
       "Zip Code                   91997\n",
       "City                       91997\n",
       "State                      91997\n",
       "Location1                  91997\n",
       "dtype: int64"
      ]
     },
     "execution_count": 8,
     "metadata": {},
     "output_type": "execute_result"
    }
   ],
   "source": [
    "#Cleaning Data  \n",
    "police_df = police_df.dropna(how='any')\n",
    "\n",
    "\n",
    "#police_df.count()"
   ]
  },
  {
   "cell_type": "markdown",
   "metadata": {},
   "source": [
    "#we went with the complete data set in order to consitent an clean infromation accross the board "
   ]
  },
  {
   "cell_type": "code",
   "execution_count": null,
   "metadata": {},
   "outputs": [],
   "source": []
  },
  {
   "cell_type": "code",
   "execution_count": null,
   "metadata": {},
   "outputs": [],
   "source": []
  },
  {
   "cell_type": "code",
   "execution_count": null,
   "metadata": {},
   "outputs": [],
   "source": []
  }
 ],
 "metadata": {
  "kernelspec": {
   "display_name": "Python 3",
   "language": "python",
   "name": "python3"
  },
  "language_info": {
   "codemirror_mode": {
    "name": "ipython",
    "version": 3
   },
   "file_extension": ".py",
   "mimetype": "text/x-python",
   "name": "python",
   "nbconvert_exporter": "python",
   "pygments_lexer": "ipython3",
   "version": "3.7.3"
  }
 },
 "nbformat": 4,
 "nbformat_minor": 2
}
