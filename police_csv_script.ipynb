{
 "cells": [
  {
   "cell_type": "code",
   "execution_count": 4,
   "metadata": {},
   "outputs": [],
   "source": [
    "import requests\n",
    "import json\n",
    "import matplotlib as plt\n",
    "from pprint import pprint\n",
    "import pandas as pd"
   ]
  },
  {
   "cell_type": "code",
   "execution_count": 6,
   "metadata": {},
   "outputs": [
    {
     "data": {
      "text/html": [
       "<div>\n",
       "<style scoped>\n",
       "    .dataframe tbody tr th:only-of-type {\n",
       "        vertical-align: middle;\n",
       "    }\n",
       "\n",
       "    .dataframe tbody tr th {\n",
       "        vertical-align: top;\n",
       "    }\n",
       "\n",
       "    .dataframe thead th {\n",
       "        text-align: right;\n",
       "    }\n",
       "</style>\n",
       "<table border=\"1\" class=\"dataframe\">\n",
       "  <thead>\n",
       "    <tr style=\"text-align: right;\">\n",
       "      <th></th>\n",
       "      <th>Incident Number w/year</th>\n",
       "      <th>Year of Incident</th>\n",
       "      <th>Watch</th>\n",
       "      <th>Call (911) Problem</th>\n",
       "      <th>Type of Incident</th>\n",
       "      <th>Date1 of Occurrence</th>\n",
       "      <th>Month1 of Occurence</th>\n",
       "      <th>Day1 of the Week</th>\n",
       "      <th>Time1 of Occurrence</th>\n",
       "      <th>Call Dispatch Date Time</th>\n",
       "      <th>X Coordinate</th>\n",
       "      <th>Y Cordinate</th>\n",
       "      <th>Zip Code</th>\n",
       "      <th>City</th>\n",
       "      <th>State</th>\n",
       "    </tr>\n",
       "  </thead>\n",
       "  <tbody>\n",
       "    <tr>\n",
       "      <th>0</th>\n",
       "      <td>038164-2018</td>\n",
       "      <td>2018</td>\n",
       "      <td>3</td>\n",
       "      <td>6XEA - DISTURBANCE EMERG AMB</td>\n",
       "      <td>RESIST ARREST SEARCH OR TRANSPORT</td>\n",
       "      <td>2/21/2018</td>\n",
       "      <td>February</td>\n",
       "      <td>Wed</td>\n",
       "      <td>19:30</td>\n",
       "      <td>2/21/2018 19:41</td>\n",
       "      <td>NaN</td>\n",
       "      <td>NaN</td>\n",
       "      <td>NaN</td>\n",
       "      <td>NaN</td>\n",
       "      <td>NaN</td>\n",
       "    </tr>\n",
       "    <tr>\n",
       "      <th>1</th>\n",
       "      <td>066284-2018</td>\n",
       "      <td>2018</td>\n",
       "      <td>1</td>\n",
       "      <td>6X - MAJOR DIST (VIOLENCE)</td>\n",
       "      <td>ASSAULT -PUB SERV (PEACE OFFICER/JUDGE)</td>\n",
       "      <td>3/30/2018</td>\n",
       "      <td>March</td>\n",
       "      <td>Fri</td>\n",
       "      <td>01:40</td>\n",
       "      <td>3/30/2018 01:27</td>\n",
       "      <td>NaN</td>\n",
       "      <td>NaN</td>\n",
       "      <td>NaN</td>\n",
       "      <td>NaN</td>\n",
       "      <td>NaN</td>\n",
       "    </tr>\n",
       "  </tbody>\n",
       "</table>\n",
       "</div>"
      ],
      "text/plain": [
       "  Incident Number w/year  Year of Incident  Watch  \\\n",
       "0            038164-2018              2018      3   \n",
       "1            066284-2018              2018      1   \n",
       "\n",
       "             Call (911) Problem                         Type of Incident  \\\n",
       "0  6XEA - DISTURBANCE EMERG AMB        RESIST ARREST SEARCH OR TRANSPORT   \n",
       "1    6X - MAJOR DIST (VIOLENCE)  ASSAULT -PUB SERV (PEACE OFFICER/JUDGE)   \n",
       "\n",
       "  Date1 of Occurrence Month1 of Occurence Day1 of the Week  \\\n",
       "0           2/21/2018            February              Wed   \n",
       "1           3/30/2018               March              Fri   \n",
       "\n",
       "  Time1 of Occurrence Call Dispatch Date Time  X Coordinate  Y Cordinate  \\\n",
       "0               19:30         2/21/2018 19:41           NaN          NaN   \n",
       "1               01:40         3/30/2018 01:27           NaN          NaN   \n",
       "\n",
       "   Zip Code City State  \n",
       "0       NaN  NaN   NaN  \n",
       "1       NaN  NaN   NaN  "
      ]
     },
     "execution_count": 6,
     "metadata": {},
     "output_type": "execute_result"
    }
   ],
   "source": [
    "zip_crime_csv = \"Resources/police_data.csv\"\n",
    "zip_crime_reader = pd.read_csv(zip_crime_csv, encoding=\"ISO-8859-1\")\n",
    "zip_crime_reader.head(2)"
   ]
  },
  {
   "cell_type": "code",
   "execution_count": 15,
   "metadata": {},
   "outputs": [
    {
     "data": {
      "text/plain": [
       "Incident Number w/year     133949\n",
       "Year of Incident           133949\n",
       "Watch                      133949\n",
       "Call (911) Problem         132683\n",
       "Type of Incident           133949\n",
       "Date1 of Occurrence        133949\n",
       "Month1 of Occurence        133949\n",
       "Day1 of the Week           133949\n",
       "Time1 of Occurrence        133949\n",
       "Call Dispatch Date Time    132673\n",
       "X Coordinate                98503\n",
       "Y Cordinate                 98503\n",
       "Zip Code                   133669\n",
       "City                       132123\n",
       "State                      132974\n",
       "dtype: int64"
      ]
     },
     "execution_count": 15,
     "metadata": {},
     "output_type": "execute_result"
    }
   ],
   "source": [
    "zip_crime_reader.count()"
   ]
  },
  {
   "cell_type": "code",
   "execution_count": 19,
   "metadata": {},
   "outputs": [
    {
     "data": {
      "text/plain": [
       "Incident Number w/year     95440\n",
       "Year of Incident           95440\n",
       "Watch                      95440\n",
       "Call (911) Problem         95440\n",
       "Type of Incident           95440\n",
       "Date1 of Occurrence        95440\n",
       "Month1 of Occurence        95440\n",
       "Day1 of the Week           95440\n",
       "Time1 of Occurrence        95440\n",
       "Call Dispatch Date Time    95440\n",
       "X Coordinate               95440\n",
       "Y Cordinate                95440\n",
       "Zip Code                   95440\n",
       "City                       95440\n",
       "State                      95440\n",
       "dtype: int64"
      ]
     },
     "execution_count": 19,
     "metadata": {},
     "output_type": "execute_result"
    }
   ],
   "source": [
    "zip_crime_dropped = zip_crime_reader.dropna(how='any')\n",
    "zip_crime_dropped.count()"
   ]
  },
  {
   "cell_type": "code",
   "execution_count": 21,
   "metadata": {},
   "outputs": [
    {
     "data": {
      "text/plain": [
       "Index(['Incident Number w/year', 'Year of Incident', 'Watch',\n",
       "       'Call (911) Problem', 'Type of Incident', 'Date1 of Occurrence',\n",
       "       'Month1 of Occurence', 'Day1 of the Week', 'Time1 of Occurrence',\n",
       "       'Call Dispatch Date Time', 'X Coordinate', 'Y Cordinate', 'Zip Code',\n",
       "       'City', 'State'],\n",
       "      dtype='object')"
      ]
     },
     "execution_count": 21,
     "metadata": {},
     "output_type": "execute_result"
    }
   ],
   "source": [
    "zip_crime_dropped.columns"
   ]
  },
  {
   "cell_type": "code",
   "execution_count": 20,
   "metadata": {},
   "outputs": [
    {
     "data": {
      "text/plain": [
       "Incident Number w/year      object\n",
       "Year of Incident             int64\n",
       "Watch                        int64\n",
       "Call (911) Problem          object\n",
       "Type of Incident            object\n",
       "Date1 of Occurrence         object\n",
       "Month1 of Occurence         object\n",
       "Day1 of the Week            object\n",
       "Time1 of Occurrence         object\n",
       "Call Dispatch Date Time     object\n",
       "X Coordinate               float64\n",
       "Y Cordinate                float64\n",
       "Zip Code                   float64\n",
       "City                        object\n",
       "State                       object\n",
       "dtype: object"
      ]
     },
     "execution_count": 20,
     "metadata": {},
     "output_type": "execute_result"
    }
   ],
   "source": [
    "zip_crime_dropped.dtypes"
   ]
  },
  {
   "cell_type": "code",
   "execution_count": 24,
   "metadata": {},
   "outputs": [
    {
     "data": {
      "text/html": [
       "<div>\n",
       "<style scoped>\n",
       "    .dataframe tbody tr th:only-of-type {\n",
       "        vertical-align: middle;\n",
       "    }\n",
       "\n",
       "    .dataframe tbody tr th {\n",
       "        vertical-align: top;\n",
       "    }\n",
       "\n",
       "    .dataframe thead th {\n",
       "        text-align: right;\n",
       "    }\n",
       "</style>\n",
       "<table border=\"1\" class=\"dataframe\">\n",
       "  <thead>\n",
       "    <tr style=\"text-align: right;\">\n",
       "      <th></th>\n",
       "      <th>Zip Code</th>\n",
       "      <th>Longitude</th>\n",
       "      <th>Latitude</th>\n",
       "      <th>City</th>\n",
       "      <th>Type of Crime</th>\n",
       "    </tr>\n",
       "  </thead>\n",
       "  <tbody>\n",
       "    <tr>\n",
       "      <th>205</th>\n",
       "      <td>75212.0</td>\n",
       "      <td>2476498.585</td>\n",
       "      <td>6971715.153</td>\n",
       "      <td>DALLAS</td>\n",
       "      <td>VIO PROTECT ORDER BIAS/PREJUDICE</td>\n",
       "    </tr>\n",
       "    <tr>\n",
       "      <th>212</th>\n",
       "      <td>75253.0</td>\n",
       "      <td>2548241.858</td>\n",
       "      <td>6932130.126</td>\n",
       "      <td>DALLAS</td>\n",
       "      <td>ABANDONED PROPERTY (NO OFFENSE)</td>\n",
       "    </tr>\n",
       "    <tr>\n",
       "      <th>219</th>\n",
       "      <td>75217.0</td>\n",
       "      <td>2525365.155</td>\n",
       "      <td>6960102.895</td>\n",
       "      <td>DALLAS</td>\n",
       "      <td>PUBLIC INTOXICATION</td>\n",
       "    </tr>\n",
       "    <tr>\n",
       "      <th>221</th>\n",
       "      <td>75216.0</td>\n",
       "      <td>2496126.907</td>\n",
       "      <td>6941940.628</td>\n",
       "      <td>DALLAS</td>\n",
       "      <td>ASSAULT -BODILY INJURY ONLY</td>\n",
       "    </tr>\n",
       "    <tr>\n",
       "      <th>222</th>\n",
       "      <td>75216.0</td>\n",
       "      <td>2487800.730</td>\n",
       "      <td>6937829.316</td>\n",
       "      <td>DALLAS</td>\n",
       "      <td>WARRANT-DALLAS PD (ALIAS/CAPIAS)</td>\n",
       "    </tr>\n",
       "    <tr>\n",
       "      <th>229</th>\n",
       "      <td>75211.0</td>\n",
       "      <td>2468877.713</td>\n",
       "      <td>6961189.651</td>\n",
       "      <td>DALLAS</td>\n",
       "      <td>UNAUTHORIZED USE OF MOTOR VEH - (ATT) TRUCK OR...</td>\n",
       "    </tr>\n",
       "    <tr>\n",
       "      <th>230</th>\n",
       "      <td>75204.0</td>\n",
       "      <td>2494114.098</td>\n",
       "      <td>6976578.343</td>\n",
       "      <td>DALLAS</td>\n",
       "      <td>CRIM MISCHIEF &gt;OR EQUAL $750 &lt; $2,500</td>\n",
       "    </tr>\n",
       "    <tr>\n",
       "      <th>231</th>\n",
       "      <td>75215.0</td>\n",
       "      <td>2492637.330</td>\n",
       "      <td>6968271.897</td>\n",
       "      <td>DALLAS</td>\n",
       "      <td>PUBLIC INTOXICATION</td>\n",
       "    </tr>\n",
       "    <tr>\n",
       "      <th>233</th>\n",
       "      <td>75217.0</td>\n",
       "      <td>2524662.487</td>\n",
       "      <td>6947002.514</td>\n",
       "      <td>DALLAS</td>\n",
       "      <td>FAIL TO ID -FUGITIVE FROM JUSTICE</td>\n",
       "    </tr>\n",
       "    <tr>\n",
       "      <th>234</th>\n",
       "      <td>75210.0</td>\n",
       "      <td>2510456.676</td>\n",
       "      <td>6966237.837</td>\n",
       "      <td>DALLAS</td>\n",
       "      <td>DWI 1 PREV CONV</td>\n",
       "    </tr>\n",
       "  </tbody>\n",
       "</table>\n",
       "</div>"
      ],
      "text/plain": [
       "     Zip Code    Longitude     Latitude    City  \\\n",
       "205   75212.0  2476498.585  6971715.153  DALLAS   \n",
       "212   75253.0  2548241.858  6932130.126  DALLAS   \n",
       "219   75217.0  2525365.155  6960102.895  DALLAS   \n",
       "221   75216.0  2496126.907  6941940.628  DALLAS   \n",
       "222   75216.0  2487800.730  6937829.316  DALLAS   \n",
       "229   75211.0  2468877.713  6961189.651  DALLAS   \n",
       "230   75204.0  2494114.098  6976578.343  DALLAS   \n",
       "231   75215.0  2492637.330  6968271.897  DALLAS   \n",
       "233   75217.0  2524662.487  6947002.514  DALLAS   \n",
       "234   75210.0  2510456.676  6966237.837  DALLAS   \n",
       "\n",
       "                                         Type of Crime  \n",
       "205                   VIO PROTECT ORDER BIAS/PREJUDICE  \n",
       "212                    ABANDONED PROPERTY (NO OFFENSE)  \n",
       "219                                PUBLIC INTOXICATION  \n",
       "221                        ASSAULT -BODILY INJURY ONLY  \n",
       "222                   WARRANT-DALLAS PD (ALIAS/CAPIAS)  \n",
       "229  UNAUTHORIZED USE OF MOTOR VEH - (ATT) TRUCK OR...  \n",
       "230              CRIM MISCHIEF >OR EQUAL $750 < $2,500  \n",
       "231                                PUBLIC INTOXICATION  \n",
       "233                  FAIL TO ID -FUGITIVE FROM JUSTICE  \n",
       "234                                    DWI 1 PREV CONV  "
      ]
     },
     "execution_count": 24,
     "metadata": {},
     "output_type": "execute_result"
    }
   ],
   "source": [
    "zip_crime_df = zip_crime_dropped.loc[:, [\"Zip Code\", \"X Coordinate\", \"Y Cordinate\", \"City\", \"Type of Incident\"]]\n",
    "zip_crime_renamed_df = zip_crime_df.rename(columns={\"Zip Code\": \"Zip Code\",\"X Coordinate\": \"Longitude\", \"Y Cordinate\": \"Latitude\", \"City\": \"City\",\"Type of Incident\":\"Type of Crime\"})\n",
    "zip_crime_renamed_df.head(10)"
   ]
  },
  {
   "cell_type": "code",
   "execution_count": 26,
   "metadata": {},
   "outputs": [
    {
     "data": {
      "text/html": [
       "<div>\n",
       "<style scoped>\n",
       "    .dataframe tbody tr th:only-of-type {\n",
       "        vertical-align: middle;\n",
       "    }\n",
       "\n",
       "    .dataframe tbody tr th {\n",
       "        vertical-align: top;\n",
       "    }\n",
       "\n",
       "    .dataframe thead th {\n",
       "        text-align: right;\n",
       "    }\n",
       "</style>\n",
       "<table border=\"1\" class=\"dataframe\">\n",
       "  <thead>\n",
       "    <tr style=\"text-align: right;\">\n",
       "      <th></th>\n",
       "      <th>Number of Unique ZipCodes</th>\n",
       "    </tr>\n",
       "  </thead>\n",
       "  <tbody>\n",
       "    <tr>\n",
       "      <th>0</th>\n",
       "      <td>81</td>\n",
       "    </tr>\n",
       "  </tbody>\n",
       "</table>\n",
       "</div>"
      ],
      "text/plain": [
       "   Number of Unique ZipCodes\n",
       "0                         81"
      ]
     },
     "execution_count": 26,
     "metadata": {},
     "output_type": "execute_result"
    }
   ],
   "source": [
    "unique_zip = len(zip_crime_renamed_df[\"Zip Code\"].unique())\n",
    "unique_zip = pd.DataFrame({\"Number of Unique ZipCodes\": [unique_zip]})\n",
    "unique_zip"
   ]
  },
  {
   "cell_type": "code",
   "execution_count": null,
   "metadata": {},
   "outputs": [],
   "source": []
  }
 ],
 "metadata": {
  "kernelspec": {
   "display_name": "Python 3",
   "language": "python",
   "name": "python3"
  },
  "language_info": {
   "codemirror_mode": {
    "name": "ipython",
    "version": 3
   },
   "file_extension": ".py",
   "mimetype": "text/x-python",
   "name": "python",
   "nbconvert_exporter": "python",
   "pygments_lexer": "ipython3",
   "version": "3.7.3"
  }
 },
 "nbformat": 4,
 "nbformat_minor": 2
}
